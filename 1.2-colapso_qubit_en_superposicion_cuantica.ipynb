{
 "cells": [
  {
   "cell_type": "markdown",
   "metadata": {},
   "source": [
    "#  Pruebas con IBM Quantum Platform Classic."
   ]
  },
  {
   "cell_type": "markdown",
   "metadata": {},
   "source": [
    "![Imagen introduccion](assets/ibm_logo.png\n",
    ")"
   ]
  },
  {
   "cell_type": "markdown",
   "metadata": {},
   "source": [
    "---"
   ]
  },
  {
   "cell_type": "markdown",
   "metadata": {},
   "source": [
    "#### Experimentación con un Quantum Processing Unit (QPU). IBM_Brisbane."
   ]
  },
  {
   "cell_type": "markdown",
   "metadata": {},
   "source": [
    "---"
   ]
  },
  {
   "cell_type": "markdown",
   "metadata": {},
   "source": [
    "#### **Autor:** *Héctor Ayuso Martín*"
   ]
  },
  {
   "cell_type": "markdown",
   "metadata": {},
   "source": [
    "## Grafismos de muestreo de colapso de un Qubit en superposición a uno de sus dos estados básicos. ##"
   ]
  },
  {
   "cell_type": "markdown",
   "metadata": {},
   "source": [
    "![Imagen introduccion](assets/colapso.webp\n",
    ")"
   ]
  },
  {
   "cell_type": "markdown",
   "metadata": {},
   "source": [
    ">QPU = IBM_Brisbane\n"
   ]
  },
  {
   "cell_type": "markdown",
   "metadata": {},
   "source": [
    "Vamos a crear un circuito sencillo de 1 qubit que, partiendo del estado |0⟩, le aplicamos una puerta Hadamard (H) y lo medimos. \n",
    "\n",
    "Al ejecutar este circuito con 1000 \"shots\" en un QPU real (por ejemplo, en ibm_brisbane), podremos ver la distribución de resultados: aproximadamente un 50% de |0⟩ y un 50% de |1⟩. \n",
    "\n",
    "Como el circuito se va a aplicar en un QPU real, esperamos encontrar ciertas variaciones por ruidoy decoherencia cuántica. Elegiremos de nuevo la ibm_brisbane, en Alemania, con 127 qubits de potencia y un procesador cuántico de la familia Eagle III.\n",
    "\n",
    "\n",
    "Recuerdo aquí que si queréis replicar el experimento vosotros, necesitareis primero registraros en IBM Quantum, para obtener vuestra API KEY personal del servicio. Aquí se usa mi API personal, guardada en un archivo de configuración llamado config.ini, el cual se encuentra aplicado en .gitignore."
   ]
  },
  {
   "cell_type": "markdown",
   "metadata": {},
   "source": [
    "## Paso 1: Construcción del circuito."
   ]
  },
  {
   "cell_type": "markdown",
   "metadata": {
    "vscode": {
     "languageId": "plaintext"
    }
   },
   "source": [
    "Creamos un circuito con un qubit y un bit clásico, luego aplicamos una puerta Hadamard al qubit para trasnformar el estado |0) inicial en un estado en superposición positiva |+).\n",
    "\n",
    "El estado de superposición positiva |+) podemos representarlo de forma lineal como:\n",
    "\n",
    "\n",
    "\n",
    " $$\\frac{\\lvert 0 \\rangle + \\lvert 1 \\rangle}{\\sqrt{2}}$$\n",
    "\n",
    "\n",
    "\n",
    "\n",
    "Por último, medimos el qubit, y con este hecho, lo obligamos a colapsar en uno de sus dos estados básicos: |0) ó |1). A partir de aquí se comportará como un bit clásico ( 0 ó 1)"
   ]
  },
  {
   "cell_type": "code",
   "execution_count": 1,
   "metadata": {},
   "outputs": [],
   "source": [
    "#Importamos librerias necesarias....\n",
    "\n",
    "from qiskit import QuantumCircuit, transpile\n",
    "import matplotlib.pyplot as plt\n",
    "from qiskit_ibm_runtime import QiskitRuntimeService\n",
    "import configparser"
   ]
  },
  {
   "cell_type": "code",
   "execution_count": 2,
   "metadata": {},
   "outputs": [
    {
     "data": {
      "image/png": "[encoded data removed]",
      "text/plain": [
       "<Figure size 269.064x200.667 with 1 Axes>"
      ]
     },
     "execution_count": 2,
     "metadata": {},
     "output_type": "execute_result"
    }
   ],
   "source": [
    "#Creamos el circuito: 1 qubit y 1 bit\n",
    "circuito = QuantumCircuit(1,1)\n",
    "#Añadimos puerta Hadamard\n",
    "circuito.h(0)\n",
    "#Medimos el qubit[0] en el bit[0]:\n",
    "circuito.measure(0,0)\n",
    "#Printeamos el circuito\n",
    "circuito.draw('mpl')"
   ]
  },
  {
   "cell_type": "code",
   "execution_count": 3,
   "metadata": {},
   "outputs": [],
   "source": [
    "#Cargamos la configuración con la API\n",
    "configuracion = configparser.ConfigParser()\n",
    "configuracion.read('config.ini')\n",
    "api_key = configuracion['IBM']['api_key']"
   ]
  },
  {
   "cell_type": "code",
   "execution_count": 4,
   "metadata": {},
   "outputs": [],
   "source": [
    "# Configuramos la apertura de la cuenta en IBM Quantum\n",
    "QiskitRuntimeService.save_account(token=api_key, channel='ibm_quantum', overwrite=True)\n"
   ]
  },
  {
   "cell_type": "code",
   "execution_count": null,
   "metadata": {},
   "outputs": [],
   "source": [
    "#Nos conectamos y seleccionamos el QPU como backend:\n",
    "service = QiskitRuntimeService()\n",
    "backend_name = 'ibm_brisbane'\n",
    "backend = service.backend('ibm_brisbane')"
   ]
  },
  {
   "cell_type": "code",
   "execution_count": 7,
   "metadata": {},
   "outputs": [
    {
     "data": {
      "text/plain": [
       "'\\nEl transpile “traduce” y ajusta para que encaje con las restricciones físicas y la topología del chip cuántico, \\nreduciendo la complejidad y mejorando la fidelidad de la ejecución.\\nPara una ejecución en un backend simulado, no hace falta \"transpilar\" el circuito\\n\\n'"
      ]
     },
     "execution_count": 7,
     "metadata": {},
     "output_type": "execute_result"
    }
   ],
   "source": [
    "#Transpilamos el circuito\n",
    "circuito_transpilado = transpile(circuito, backend)\n",
    "\n",
    "\"\"\"\n",
    "El transpile “traduce” y ajusta para que encaje con las restricciones físicas y la topología del chip cuántico, \n",
    "reduciendo la complejidad y mejorando la fidelidad de la ejecución.\n",
    "Para una ejecución en un backend simulado, no hace falta \"transpilar\" el circuito\n",
    "\n",
    "\"\"\""
   ]
  },
  {
   "cell_type": "code",
   "execution_count": null,
   "metadata": {},
   "outputs": [],
   "source": [
    "from qiskit_ibm_runtime import Sampler\n",
    "\n",
    "print(f\"Se ha mandado el circuito a {backend_name} , esta celda puede tardar mas de 1 hora en terminar de ejecutarse, debido a la espera que debemos realizar en la QPU antes de su procesado. Puedes ver la QUEUE en el enlace proporcionado \")\n",
    "\n",
    "sampler = Sampler(backend)  \n",
    "\n",
    "job = sampler.run([circuito_transpilado])\n",
    "\n",
    "result = job.result()\n",
    "\n",
    "print(\"Resultados:\", result.quasi_dists)\n",
    "\n",
    "#Esperando la ejecución: el ID del job para su futura busqueda es: cz1hhrf1xvhg008dr11g"
   ]
  },
  {
   "cell_type": "code",
   "execution_count": 8,
   "metadata": {},
   "outputs": [],
   "source": [
    "job_id = 'cz1hhrf1xvhg008dr11g'\n",
    "job = service.job(job_id)\n",
    "result = job.result()\n",
    "\n",
    "counts = result[0].join_data().get_counts() ##aqui la solucion por fin"
   ]
  },
  {
   "cell_type": "markdown",
   "metadata": {},
   "source": [
    "Enlace a IBM: https://quantum-computing.ibm.com\n",
    "\n"
   ]
  },
  {
   "cell_type": "code",
   "execution_count": 9,
   "metadata": {},
   "outputs": [
    {
     "data": {
      "image/png": "[encoded data removed]",
      "text/plain": [
       "<Figure size 640x480 with 1 Axes>"
      ]
     },
     "metadata": {},
     "output_type": "display_data"
    }
   ],
   "source": [
    "#Los graficamos..\n",
    "labels = list(counts.keys())\n",
    "values = list(counts.values())\n",
    "\n",
    "plt.bar(labels, values, color='skyblue')\n",
    "plt.xlabel('Estado medido')\n",
    "plt.ylabel('Número de ocurrencias')\n",
    "plt.title('Distribución de mediciones: Puerta H sobre |0⟩ (1000 shots)')\n",
    "plt.show()"
   ]
  },
  {
   "cell_type": "markdown",
   "metadata": {},
   "source": [
    "Resultados Obtenidos:\n",
    "\n",
    "Teóricamente, la distribución tendría que ser uniforme. 50% para |0) y 50% para |1), pero debido al ruido de fondo, inestabilidad real de los qubits y decoherencia cuántica, podemos observar en el gráfico de barras que hay una ligera desviación.\n",
    "\n",
    "Este exprimento logra representar con hechos reales como un solo qubit en superposición da lugar a una distribución equiprobable tras la medicíon y su colapso a un estado básico."
   ]
  },
  {
   "cell_type": "markdown",
   "metadata": {},
   "source": [
    "---"
   ]
  },
  {
   "cell_type": "markdown",
   "metadata": {},
   "source": [
    "## Repitiendo el experimento, pero ahora en un Backend simulado, no en una QPU real."
   ]
  },
  {
   "cell_type": "markdown",
   "metadata": {},
   "source": [
    "Importamos librerias necesarias para el funcionamiento del backend simulado (Aer)."
   ]
  },
  {
   "cell_type": "code",
   "execution_count": 43,
   "metadata": {},
   "outputs": [],
   "source": [
    "from qiskit import QuantumCircuit, transpile\n",
    "from qiskit_aer import AerSimulator\n",
    "import matplotlib.pyplot as plt"
   ]
  },
  {
   "cell_type": "code",
   "execution_count": 44,
   "metadata": {},
   "outputs": [],
   "source": [
    "#Instanciamos el simulador\n",
    "simulator = AerSimulator()"
   ]
  },
  {
   "cell_type": "code",
   "execution_count": 45,
   "metadata": {},
   "outputs": [
    {
     "data": {
      "text/plain": [
       "<qiskit.circuit.instructionset.InstructionSet at 0x15c4b9db0d0>"
      ]
     },
     "execution_count": 45,
     "metadata": {},
     "output_type": "execute_result"
    }
   ],
   "source": [
    "#Creamos el circuito. Hay que tener en cuenta que el simulador hace uso del hardware clásico, por lo tanto, la computación de un gran número de qubits puede no poder\n",
    "#realizarse correctamente debido a limitaciones.\n",
    "\n",
    "qc = QuantumCircuit(1,1)\n",
    "qc.h(0)\n",
    "qc.measure(0,0)"
   ]
  },
  {
   "cell_type": "code",
   "execution_count": 46,
   "metadata": {},
   "outputs": [
    {
     "data": {
      "image/png": "[encoded data removed]",
      "text/plain": [
       "<Figure size 269.064x200.667 with 1 Axes>"
      ]
     },
     "execution_count": 46,
     "metadata": {},
     "output_type": "execute_result"
    }
   ],
   "source": [
    "qc.draw('mpl')\n",
    "#Podemos comprobar en la imagen de diseño del circuito, que disponemos de un qubit, 1 bit clásico, una puerta H y un medidor."
   ]
  },
  {
   "cell_type": "code",
   "execution_count": 47,
   "metadata": {},
   "outputs": [],
   "source": [
    "#Transpilamos el circuito..\n",
    "qc_transpiled = transpile(qc,simulator)"
   ]
  },
  {
   "cell_type": "code",
   "execution_count": 48,
   "metadata": {},
   "outputs": [],
   "source": [
    "#Ejecutamos la simulación, esta vez, vamos a disparar 1.000.000(millón) de shots:\n",
    "job = simulator.run(qc_transpiled, shots = 1000000)\n",
    "result = job.result()"
   ]
  },
  {
   "cell_type": "code",
   "execution_count": 49,
   "metadata": {},
   "outputs": [
    {
     "name": "stdout",
     "output_type": "stream",
     "text": [
      "Resultados de medición: {'1': 500105, '0': 499895}\n"
     ]
    }
   ],
   "source": [
    "#Obtenemos los conteos de la medición:\n",
    "counts = result.get_counts()\n",
    "print(\"Resultados de medición:\", counts)"
   ]
  },
  {
   "cell_type": "code",
   "execution_count": 50,
   "metadata": {},
   "outputs": [],
   "source": [
    "#Por ultimo graficamos los resultados. En un estado ideal, debería ser el resultado, un 50% para el estado básico |0), y un 50% para el estado básico |1).\n",
    "\n",
    "\n",
    "# Cambiar etiquetas de los estados a notación cuántica\n",
    "labels = {\"0\": \"|0⟩\", \"1\": \"|1⟩\"}\n",
    "counts_qc = {labels[k]: v for k, v in counts.items()}"
   ]
  },
  {
   "cell_type": "code",
   "execution_count": 51,
   "metadata": {},
   "outputs": [
    {
     "data": {
      "image/png": "[encoded data removed]",
      "text/plain": [
       "<Figure size 640x480 with 1 Axes>"
      ]
     },
     "metadata": {},
     "output_type": "display_data"
    }
   ],
   "source": [
    "#Creando la gráfica...\n",
    "\n",
    "plt.bar(counts_qc.keys(), counts_qc.values(), color='red')\n",
    "\n",
    "# Agregar el número de mediciones para mjorar la visualización\n",
    "for estado, valor in counts_qc.items():\n",
    "    plt.text(estado, valor / 2, str(valor), fontsize=12, ha='center', fontweight='bold', color='black',\n",
    "             bbox=dict(facecolor='white', edgecolor='black', boxstyle='round,pad=0.3'))\n",
    "    \n",
    "\n",
    "plt.xlabel('Estado medido')\n",
    "plt.ylabel('Número de ocurrencias')\n",
    "plt.title('Distribución de mediciones de |0⟩ con puerta Hadamard (Millón de shots)')\n",
    "\n",
    "\n",
    "plt.show()\n"
   ]
  },
  {
   "cell_type": "code",
   "execution_count": 52,
   "metadata": {},
   "outputs": [
    {
     "name": "stdout",
     "output_type": "stream",
     "text": [
      "{'1': 500105, '0': 499895}\n",
      "La desviación es de 210 veces\n"
     ]
    }
   ],
   "source": [
    "print(counts)\n",
    "if counts['0'] > counts['1']:\n",
    "    print(f'La desviación es de {counts['0']-counts['1']} veces')\n",
    "else:\n",
    "    print(f'La desviación es de {counts['1']-counts['0']} veces')\n"
   ]
  },
  {
   "cell_type": "markdown",
   "metadata": {},
   "source": [
    "## Conclusión:"
   ]
  },
  {
   "cell_type": "markdown",
   "metadata": {},
   "source": [
    "Al ejecutar un millón de veces el circuito, obtuvimos 499578 ocurrencias del estado |0) y 500422 del estado |1). La diferencia de n = 844 es el 0.0844%, que es el error que obtenemos, ahora de forma simulada claro, del ruido, inestabilidad de los qbits, decoherencia cuántica...\n",
    "\n",
    "Esto se ajusta perfectamente a lo esperado, por lo que podemos decir que el qubit colapsa casi perfectamente al 50% en cada estado básico.\n",
    "\n",
    "Como dice un qubit timido en superposición: si me miran me colapso..\n",
    "\n",
    "A reir y que la incertidumbre te acompañe!\n",
    "\n"
   ]
  },
  {
   "cell_type": "markdown",
   "metadata": {},
   "source": [
    "![Imagen introduccion](assets/flag.png\n",
    ")"
   ]
  },
  {
   "cell_type": "markdown",
   "metadata": {},
   "source": [
    "> Barcelona, 1 de Marzo de 2025"
   ]
  }
 ],
 "metadata": {
  "kernelspec": {
   "display_name": "Python 3",
   "language": "python",
   "name": "python3"
  },
  "language_info": {
   "codemirror_mode": {
    "name": "ipython",
    "version": 3
   },
   "file_extension": ".py",
   "mimetype": "text/x-python",
   "name": "python",
   "nbconvert_exporter": "python",
   "pygments_lexer": "ipython3",
   "version": "3.12.4"
  }
 },
 "nbformat": 4,
 "nbformat_minor": 2
}
