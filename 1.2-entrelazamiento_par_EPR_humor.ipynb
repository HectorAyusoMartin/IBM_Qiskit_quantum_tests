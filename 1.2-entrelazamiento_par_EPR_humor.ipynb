{
 "cells": [
  {
   "cell_type": "markdown",
   "metadata": {},
   "source": [
    "#  Pruebas con IBM Quantum Platform Classic."
   ]
  },
  {
   "cell_type": "markdown",
   "metadata": {},
   "source": [
    "---"
   ]
  },
  {
   "cell_type": "markdown",
   "metadata": {},
   "source": [
    "---"
   ]
  },
  {
   "cell_type": "markdown",
   "metadata": {},
   "source": [
    "#### **Autor:** *Héctor Ayuso Martín*"
   ]
  },
  {
   "cell_type": "markdown",
   "metadata": {},
   "source": [
    "![Imagen introduccion](assets/end.png\n",
    ")"
   ]
  },
  {
   "cell_type": "markdown",
   "metadata": {},
   "source": [
    "## Dos personas muy entrelazadas. ##"
   ]
  },
  {
   "cell_type": "markdown",
   "metadata": {},
   "source": [
    ">Instituto de Matemáticas de la UNAM (MX)"
   ]
  },
  {
   "cell_type": "markdown",
   "metadata": {},
   "source": [
    "Sergio y Alma estaban juntos en algún momento de su vida, y compartían un par EPR (a parte de otras cosas, supongo). \n",
    "\n",
    "Compartían un estado de entrelazamiento cuántico, pero las circustancias de la vida hacen que Sergio y Alma estén separados en este momento. Cada uno, con su qubit de ese par EPR, que siguen entrelazados aunque estén distantes.\n",
    "\n",
    "Por caprichos de la vida, Sergio está en peligro al atragantarse con un bocadillo Carpanta, y para resolver ese peligro, Alma tiene que enviarle el estado de un qubit. ¿Cómo puede enviarle el estado de un qubit?¿Qué tiene que enviar?. Alma tiene que enviar dos números complejos: $\\alpha_0$ y $\\alpha_1$ , pero, solo tiene un canal clásico para comunicarse con él.\n",
    "\n",
    "Por un canal clásico, con bits clásicos, cuanntos bits ocupa un número complejo? Además, Alma no sabe cual es. Ella tien el qubit en superposición, no sabe cual es el estado. Si lo observa se acabó. colapsaría en un estado básico.\n",
    "\n",
    "La pregunta aquí es como Alma puede enviar esto a Sergio. Puede enviarlo usando un canal clásico? Hay esperanza para Sergio Carnero?\n",
    "\n",
    "\n",
    "### Usando teleportación veremos que Alma puede salvar a Sergio utilizando solamente 2(dos) bits de información.\n"
   ]
  },
  {
   "cell_type": "code",
   "execution_count": 1,
   "metadata": {},
   "outputs": [],
   "source": [
    "#TODO"
   ]
  },
  {
   "cell_type": "markdown",
   "metadata": {},
   "source": [
    "---"
   ]
  },
  {
   "cell_type": "markdown",
   "metadata": {},
   "source": [
    "![Imagen introduccion](assets/flag.png\n",
    ")"
   ]
  },
  {
   "cell_type": "markdown",
   "metadata": {},
   "source": [
    "> Barcelona, 1 de Marzo de 2025"
   ]
  }
 ],
 "metadata": {
  "kernelspec": {
   "display_name": "Python 3",
   "language": "python",
   "name": "python3"
  },
  "language_info": {
   "codemirror_mode": {
    "name": "ipython",
    "version": 3
   },
   "file_extension": ".py",
   "mimetype": "text/x-python",
   "name": "python",
   "nbconvert_exporter": "python",
   "pygments_lexer": "ipython3",
   "version": "3.12.4"
  }
 },
 "nbformat": 4,
 "nbformat_minor": 2
}
