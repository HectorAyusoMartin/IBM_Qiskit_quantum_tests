{
 "cells": [
  {
   "cell_type": "markdown",
   "id": "cfb0fd3c-da86-4b70-b948-400e012369e5",
   "metadata": {},
   "source": [
    "# Especificaciones de **Qiskit** en Jupyter Notebook.\n",
    "# Programación de Algoritmos Cuánticos | **Quantum Algorithm Programming**\n"
   ]
  },
  {
   "cell_type": "markdown",
   "id": "a487c68c-6567-4269-96f2-3975ef2cd9fd",
   "metadata": {},
   "source": [
    "## **Autor** :  *Héctor Ayuso Martín*"
   ]
  },
  {
   "cell_type": "markdown",
   "id": "407737e2-d16f-43e2-aaa1-44aff37715f1",
   "metadata": {},
   "source": [
    "![Imagen introduccion](assets/intro.jpeg\n",
    ")"
   ]
  },
  {
   "cell_type": "raw",
   "id": "976702f2-e4f5-4bf4-8e21-c9c443c19da6",
   "metadata": {},
   "source": [
    "Este Jupyter Notebook ha sido realizado como una pequeña introducción a la libreria de Python Qiskit, de IBM.\n",
    "Esta librería está orientada a la programación cuántica, con la idea de documentar los primeros pasos en la introducción a dicha librería y su uso.\n",
    "La programación cúantica es un enfoque de la programación que aprovecha las propiedades de la mecánica cuántica para procesar informaciñon de manera diferente a la computación clásica. Se basa en QUBITS, y estos pueden estar en múltiples estados simultánemante gracias a la superposición cuántica, y además, pueden estar correlaccionados entre sí mediante entrelazamiento."
   ]
  },
  {
   "cell_type": "markdown",
   "id": "9f11654e-953c-4b19-9532-307d7087e1c0",
   "metadata": {},
   "source": [
    " > \"La superposición cuántica es el arte de NO decidirse\"\n",
    "\n",
    " > \"Una puerta Hadamard H enseña a experimentar a una máquina la incertidumbre de la vida\""
   ]
  },
  {
   "cell_type": "markdown",
   "id": "cf886892-0102-4927-982e-64ad87c8d804",
   "metadata": {},
   "source": [
    "---"
   ]
  },
  {
   "cell_type": "markdown",
   "id": "00e7d31a-5005-4e10-bf63-544b52b04806",
   "metadata": {},
   "source": [
    "### 1: Instalación de librerias y módulos necesarios."
   ]
  },
  {
   "cell_type": "raw",
   "id": "507edcc6",
   "metadata": {
    "vscode": {
     "languageId": "raw"
    }
   },
   "source": [
    "Antes de nada, comentar que para el uso estable de ciertos módulos de Qiskit, como por ejemplo el modulo Aer, es necesario ejecutarlos a través de Python con su version 3.10.\n",
    "La ejecución e importación de ciertos módulos bajo Python 3.12 puede generar errores y problemas severos.\n",
    "Es recomendable, a través de Conda, MiniConda o VenV, la creación de un entorno virtual para la instalación y ejecución de algún que otro módulo de marcada incompatibilidad con Py3.12."
   ]
  },
  {
   "cell_type": "markdown",
   "id": "58deb38d",
   "metadata": {},
   "source": [
    "![Imagen introduccion](assets/py310.png\n",
    ")"
   ]
  },
  {
   "cell_type": "code",
   "execution_count": 1,
   "id": "baa63d36-7f77-4bb1-9903-c72ec76fd2e7",
   "metadata": {},
   "outputs": [],
   "source": [
    "!pip install qiskit\n",
    "!pip install pylatexenc\n",
    "!pip install \"qiskit[visualization]\"\n",
    "\n",
    "#qiskit     --> Qiskit es un framework de código abierto para desarrollar y ejecutar algoritmos cuánticos en simuladores y hardware cuántico real.\n",
    "#pylatexenc --> Se usa comúnmente para renderizar ecuaciones matemáticas en entornos como Jupyter Notebook.\n",
    "\n",
    "\n"
   ]
  },
  {
   "cell_type": "markdown",
   "id": "94687c42-42f5-498d-a8de-8fafbc25e26e",
   "metadata": {},
   "source": [
    "---\n"
   ]
  },
  {
   "cell_type": "markdown",
   "id": "c645c7a4-6c01-475b-a177-863df5bfa00a",
   "metadata": {},
   "source": [
    "### 2: Creación de un circuito cuántico"
   ]
  },
  {
   "cell_type": "raw",
   "id": "75b4bb87-6819-4582-8f52-40b41a650346",
   "metadata": {},
   "source": [
    "Un circuito cuántico, de forma simplificada, es una secuencia de operaciones aplicadas a los qubits mencionados anteriormente, mediante puertas cuánticas. Una puerta cuántica funciona de manera similar a una puerta lógica, pero utilizando matrices unitarias para manipular los Qubits mediante SUPERPOSICIÓNM INTERFERENCIA y ENTRELAZAMIENTO. Algún ejemplo de estas puertas cuánticas, las cuales veremos mas adelante son: puerta Hadamard(H), la NOT Cuántica (X), y la CNOT(Control-NOT). En Qiskit, se define con la clase QuantumCircuit, y a los objetos instanciados de esta clase (circuitos) se les podra asignar estas puertas, tanto de control como de medición, antes de ejecutarlos, ya sea en un simulador, como en un hardaware cuántico real."
   ]
  },
  {
   "cell_type": "markdown",
   "id": "d99591ee-e8b3-4a62-9a52-d4aed29d97d1",
   "metadata": {},
   "source": [
    "#### Imagen: Tabla de puertas lógicas con el resultado de la ejecución de su función."
   ]
  },
  {
   "cell_type": "markdown",
   "id": "1fc58048-f98a-4eaa-b106-5ee1d88c12bc",
   "metadata": {},
   "source": [
    "![Tabla de puertas lógicas](assets/puertas_logicas.webp)\n"
   ]
  },
  {
   "cell_type": "code",
   "execution_count": 3,
   "id": "8fa8ace4-f2d9-49b1-87cf-d137d6da27ae",
   "metadata": {},
   "outputs": [],
   "source": [
    "#Importamos numpy y las librerias de Qiskit para los circuitos cuánticos:\n",
    "import numpy as np\n",
    "from qiskit import QuantumCircuit, QuantumRegister, ClassicalRegister"
   ]
  },
  {
   "cell_type": "code",
   "execution_count": 4,
   "id": "cda082ac-981e-463d-a1a4-6c081575c9b4",
   "metadata": {},
   "outputs": [],
   "source": [
    "#La idea ahora es crear un circuito cuúantico que tenga 3 Qubits y 3 registros clásicos. Los registros clasicos sirven para registrar que hemos medido\n",
    "#en cada uno de los qubits. A continuaciñon creamos el circuito con 3 registros cuánticos y 3 registros clásicos:\n",
    "\n",
    "nrq = 3 \n",
    "nrc = 3\n"
   ]
  },
  {
   "cell_type": "code",
   "execution_count": 5,
   "id": "a61aa67a-9d60-4a6d-9e06-4d0ecc7226b9",
   "metadata": {},
   "outputs": [],
   "source": [
    "\n",
    "#Normalmente debemos tener el mismo número de registros cuánticos como clásicos. Pero por convención general, es bién entendido\n",
    "#siempre dejar esto especificado.\n"
   ]
  },
  {
   "cell_type": "code",
   "execution_count": 6,
   "id": "e7560d1a-8e83-492b-86f2-38294648f4a8",
   "metadata": {},
   "outputs": [],
   "source": [
    "#Generamos el registro cuántico(Serán los qubits):\n",
    "\n",
    "qr = QuantumRegister(nrq, name='q')\n",
    "\n",
    "#Generamos el registro clásico(los registros de medición)\n",
    "\n",
    "cr = ClassicalRegister(nrc, name='c')\n"
   ]
  },
  {
   "cell_type": "code",
   "execution_count": 7,
   "id": "28c79751-0db1-4aed-ac53-0dc9fa5ac831",
   "metadata": {},
   "outputs": [],
   "source": [
    "#Generamos, ahora si, el circuito cuántico:\n",
    "\n",
    "circuito = QuantumCircuit(qr , cr , name='quantum circuit')\n"
   ]
  },
  {
   "cell_type": "code",
   "execution_count": 8,
   "id": "3f206511-3b6b-442d-bb29-886d2a02211b",
   "metadata": {},
   "outputs": [
    {
     "data": {
      "text/html": [
       "<pre style=\"word-wrap: normal;white-space: pre;background: #fff0;line-height: 1.1;font-family: &quot;Courier New&quot;,Courier,monospace\">     \n",
       "q_0: \n",
       "     \n",
       "q_1: \n",
       "     \n",
       "q_2: \n",
       "     \n",
       "c: 3/\n",
       "     </pre>"
      ],
      "text/plain": [
       "     \n",
       "q_0: \n",
       "     \n",
       "q_1: \n",
       "     \n",
       "q_2: \n",
       "     \n",
       "c: 3/\n",
       "     "
      ]
     },
     "execution_count": 8,
     "metadata": {},
     "output_type": "execute_result"
    }
   ],
   "source": [
    "#Dibujamos el circuito en el output con el método .draw()\n",
    "#Importante señalar que para modificar la aparencia del output, podemos usar matplotlib para mu mejor visualización.\n",
    "\n",
    "#Aqui será printeado SIN matplotlib. Asi generariamos una tabla ASCII dentro de la consola.\n",
    "circuito.draw('text')"
   ]
  },
  {
   "cell_type": "code",
   "execution_count": 9,
   "id": "3bfe8744-031c-4cd9-a72e-17cf9718aa05",
   "metadata": {
    "scrolled": true
   },
   "outputs": [
    {
     "data": {
      "image/png": "[encoded data removed]",
      "text/plain": [
       "<Figure size 162.08x367.889 with 1 Axes>"
      ]
     },
     "execution_count": 9,
     "metadata": {},
     "output_type": "execute_result"
    }
   ],
   "source": [
    "#Aquí será printeado CON matplotlib:\n",
    "\n",
    "circuito.draw('mpl')"
   ]
  },
  {
   "cell_type": "raw",
   "id": "2e006dec-af3b-4be7-91a3-6d1e353ebd1e",
   "metadata": {
    "vscode": {
     "languageId": "raw"
    }
   },
   "source": [
    "Matplotlib es una biblioteca de Python para crear gráficos y visualizaciones de datos de manera flexible y personalizable. \n",
    "Permite generar desde gráficos simples (líneas, barras o  dispersión) hasta visualizaciones más avanzadas en 2D y 3D. \n",
    "Se integra bien con NumPy y pandas, lo que la hace ideal para análisis de datos y ciencia de datos."
   ]
  },
  {
   "cell_type": "raw",
   "id": "0be05975-fe57-4b15-a13f-8d68012de6e0",
   "metadata": {},
   "source": [
    "Con pylantexenc, podemos también renderizarlo en formato LaTex, útil para documentos académicos. circuito.draw('latex')"
   ]
  },
  {
   "cell_type": "markdown",
   "id": "1ec44080-47c7-48d5-9a37-8b6759fb29e1",
   "metadata": {},
   "source": [
    "---"
   ]
  },
  {
   "cell_type": "markdown",
   "id": "6ac9c285-dd1c-4b08-b8f3-2a0ca481bc2e",
   "metadata": {},
   "source": [
    "# 3: Añadiendo puertas al circuito."
   ]
  },
  {
   "cell_type": "markdown",
   "id": "da2440c9-80aa-4dc0-af20-b90d2e7ad732",
   "metadata": {},
   "source": [
    "<details>\n",
    "  <summary>Tipos de puertas cuátincas. Haz clic aquí para ver más detalles.</summary>\n",
    "  **Single-Qubit**: Puertas que solo afectan a un qubit al mismo tiempo.\n",
    "    **Multi-Quibit**. Puertas que afectan a varios qubits a la vez.\n",
    "</details>\n"
   ]
  },
  {
   "cell_type": "raw",
   "id": "c00261cf-d761-4c1a-9551-b8521513da56",
   "metadata": {},
   "source": [
    "\n",
    "Vamos a añadir algunas puertas cuánticas Single-Q:\n"
   ]
  },
  {
   "cell_type": "code",
   "execution_count": 10,
   "id": "20a2883e-d184-49cc-897b-b895a8eae6bf",
   "metadata": {},
   "outputs": [
    {
     "data": {
      "text/plain": [
       "<qiskit.circuit.instructionset.InstructionSet at 0x24be328a440>"
      ]
     },
     "execution_count": 10,
     "metadata": {},
     "output_type": "execute_result"
    }
   ],
   "source": [
    "#Puerta unitaria general(con 3 ángulos):\n",
    "\n",
    "circuito.u(np.pi/2,np.pi/4,np.pi/8,qr[0])"
   ]
  },
  {
   "cell_type": "markdown",
   "id": "e1faef0a-9cd2-43cb-aa53-61fa62a88955",
   "metadata": {},
   "source": [
    "En Qiskit, la puerta U(θ, φ, λ) es la versión más general de una puerta unitaria de 1 qubit.\n",
    "\n",
    "Esta puerta te permite realizar cualquier rotación en la esfera de Bloch.\n",
    "\n",
    "**Parámetros del código**:\n",
    "\n",
    "np.pi/2, np.pi/4, np.pi/8 → Parámetros de la puerta U:\n",
    "\n",
    "    -np.pi/2 → θ (theta): Controla la amplitud de probabilidad de los estados |0⟩ y |1⟩.\n",
    "    -np.pi/4 → φ (phi): Controla la fase relativa en la parte inferior de la matriz.\n",
    "    -np.pi/8 → λ (lambda): Ajusta la fase global de la rotación.\n",
    "    \n",
    "    Estos parámetros determinan cómo se rota el qubit en la esfera de Bloch.\n",
    "\n",
    "qr[0] → Qubit sobre el que se aplica la puerta."
   ]
  },
  {
   "cell_type": "code",
   "execution_count": 11,
   "id": "0c4e9167-8c63-496d-8f65-3eb600058942",
   "metadata": {},
   "outputs": [
    {
     "data": {
      "image/png": "[encoded data removed]",
      "text/plain": [
       "<Figure size 287.496x367.889 with 1 Axes>"
      ]
     },
     "execution_count": 11,
     "metadata": {},
     "output_type": "execute_result"
    }
   ],
   "source": [
    "#Podemos observar en el printeo del circuito, la recientemente añadida puerta U(unitaria general):\n",
    "circuito.draw('mpl')"
   ]
  },
  {
   "cell_type": "raw",
   "id": "89760cbc-a6e3-4e83-8832-ab178c6f376d",
   "metadata": {},
   "source": [
    "\n",
    "Agregando puerta de FASE:\n"
   ]
  },
  {
   "cell_type": "code",
   "execution_count": 12,
   "id": "01031a9e-f541-47e6-9e0a-dac25024504d",
   "metadata": {},
   "outputs": [
    {
     "data": {
      "text/plain": [
       "<qiskit.circuit.instructionset.InstructionSet at 0x24be3340730>"
      ]
     },
     "execution_count": 12,
     "metadata": {},
     "output_type": "execute_result"
    }
   ],
   "source": [
    "#En este ejemplo en concreto, añadimos la fase n/2 en el qubit número 1.\n",
    "circuito.p(np.pi/2,qr[1])"
   ]
  },
  {
   "cell_type": "code",
   "execution_count": 13,
   "id": "e38b3dab-25c1-41fa-a639-0b1abe350343",
   "metadata": {},
   "outputs": [
    {
     "data": {
      "image/png": "[encoded data removed]",
      "text/plain": [
       "<Figure size 287.496x367.889 with 1 Axes>"
      ]
     },
     "execution_count": 13,
     "metadata": {},
     "output_type": "execute_result"
    }
   ],
   "source": [
    "#Visualizamos la nueva puerta FASE insertada en el qubit número 1 con matplotlib:\n",
    "circuito.draw('mpl')"
   ]
  },
  {
   "cell_type": "raw",
   "id": "6818bd9c-5309-4126-b3c8-8f5a184aecca",
   "metadata": {},
   "source": [
    "\n",
    "Agregando puerta de Identidad (id):\n"
   ]
  },
  {
   "cell_type": "code",
   "execution_count": 14,
   "id": "6b1f20c4-d3a5-4926-8466-52ea4f03d17b",
   "metadata": {},
   "outputs": [
    {
     "data": {
      "text/plain": [
       "<qiskit.circuit.instructionset.InstructionSet at 0x24be32fc370>"
      ]
     },
     "execution_count": 14,
     "metadata": {},
     "output_type": "execute_result"
    }
   ],
   "source": [
    "#Esta puerta deja el estado del qubit inalterado, se usa para sincronización y mantener la coherencia cuántica en los circuitos.\n",
    "#En el ejemplo añadimos la puerta de identidad al qubit número 2:\n",
    "circuito.id(qr[2])"
   ]
  },
  {
   "cell_type": "code",
   "execution_count": 15,
   "id": "ca999a9f-abcf-4f1d-b6a8-d5a1f6b448f3",
   "metadata": {},
   "outputs": [
    {
     "data": {
      "image/png": "[encoded data removed]",
      "text/plain": [
       "<Figure size 287.496x367.889 with 1 Axes>"
      ]
     },
     "execution_count": 15,
     "metadata": {},
     "output_type": "execute_result"
    }
   ],
   "source": [
    "circuito.draw('mpl')"
   ]
  },
  {
   "cell_type": "raw",
   "id": "455e5485-e914-4a95-8e9c-df20a074e352",
   "metadata": {},
   "source": [
    "\n",
    "Agregando puertas PAULI(X, Y y Z):\n"
   ]
  },
  {
   "cell_type": "code",
   "execution_count": 16,
   "id": "61698da9-69cf-4145-bc43-6d824f49bb0f",
   "metadata": {},
   "outputs": [
    {
     "data": {
      "image/png": "[encoded data removed]",
      "text/plain": [
       "<Figure size 454.719x367.889 with 1 Axes>"
      ]
     },
     "execution_count": 16,
     "metadata": {},
     "output_type": "execute_result"
    }
   ],
   "source": [
    "circuito.x(qr[2])\n",
    "circuito.y(qr[2])\n",
    "circuito.z(qr[1])\n",
    "\n",
    "circuito.draw('mpl')\n"
   ]
  },
  {
   "cell_type": "raw",
   "id": "b9d4a5d0-6b40-493c-b721-c40039a0c229",
   "metadata": {
    "vscode": {
     "languageId": "raw"
    }
   },
   "source": [
    "\n",
    "Agregamos ahora una barrera, con la idea de separar nuestro circuito en tramos. \n",
    "La idea de la subdivisión de circuito en tramos es util a la hora de la creación y estructuración, ya que facilita su manipulación en todos los sentidos. \n",
    "Además, gracias a la barrera, podemos evitar que distintas puertas colocadas en diferentes qubits terminen agrupandose de manera descontrolada.\n",
    "Podríamos decir que la barrera es un mecanismo de control y seguridad.\n"
   ]
  },
  {
   "cell_type": "code",
   "execution_count": 17,
   "id": "4d022d93-1875-4e67-a802-59044a6d289c",
   "metadata": {},
   "outputs": [
    {
     "data": {
      "image/png": "[encoded data removed]",
      "text/plain": [
       "<Figure size 538.33x367.889 with 1 Axes>"
      ]
     },
     "execution_count": 17,
     "metadata": {},
     "output_type": "execute_result"
    }
   ],
   "source": [
    "circuito.barrier(range(nrq)) #mandamos como parámetro un range(numero_registros_cuanticos), creado al principio, para que abarque TODOS.\n",
    "\n",
    "circuito.draw('mpl')"
   ]
  },
  {
   "cell_type": "markdown",
   "id": "f191420f-5546-48e8-9b5c-c7edf9e853a0",
   "metadata": {},
   "source": [
    "\n",
    "Agregando puerta Hadamard (H).\n"
   ]
  },
  {
   "cell_type": "raw",
   "id": "69872fba-82d3-4fda-9857-de259ad33919",
   "metadata": {
    "vscode": {
     "languageId": "raw"
    }
   },
   "source": [
    "La puerta Hadamard (H) es una puerta cuántica que coloca un qubit en superposición, transformando los estados |0) y |1) en una combinación equilibrada de ambos. \n",
    "Reiete tú ahora del gato de Erwin Schrödinger :D!"
   ]
  },
  {
   "cell_type": "code",
   "execution_count": 18,
   "id": "7c7d7229-5cfe-4ccd-a434-d728f44bc0f1",
   "metadata": {},
   "outputs": [
    {
     "data": {
      "image/png": "[encoded data removed]",
      "text/plain": [
       "<Figure size 621.941x367.889 with 1 Axes>"
      ]
     },
     "execution_count": 18,
     "metadata": {},
     "output_type": "execute_result"
    }
   ],
   "source": [
    "circuito.h(qr[1])\n",
    "\n",
    "circuito.draw('mpl')"
   ]
  },
  {
   "cell_type": "raw",
   "id": "2b1467b4-9f8f-48b3-85ff-f1945835fa33",
   "metadata": {},
   "source": [
    "\n",
    "Añadiendo puerta S:\n"
   ]
  },
  {
   "cell_type": "raw",
   "id": "db72904f-bf0c-405f-9355-e2a2d41188df",
   "metadata": {
    "vscode": {
     "languageId": "raw"
    }
   },
   "source": [
    "La puerta S es otra puerta de FASE.S es la raíz cuadrada de la puerta Z, por lo que aplicar dos veces una puerta S equivaldria a aplicar una puerta Z.\n",
    "Si se necesiatara mas fase, se podría aplicar la S dagger, que aplica PI/2 de Fase."
   ]
  },
  {
   "cell_type": "raw",
   "id": "48b580f9-ade7-4a7c-a3e2-93344353a7e5",
   "metadata": {},
   "source": [
    "Las puertas de FASE modifican la fase del estado |1) sin que cambie la probabilidad de medir 0 o 1."
   ]
  },
  {
   "cell_type": "code",
   "execution_count": 19,
   "id": "08501afb-1912-401c-ab31-c6348eb05b51",
   "metadata": {},
   "outputs": [
    {
     "data": {
      "image/png": "[encoded data removed]",
      "text/plain": [
       "<Figure size 705.552x367.889 with 1 Axes>"
      ]
     },
     "execution_count": 19,
     "metadata": {},
     "output_type": "execute_result"
    }
   ],
   "source": [
    "circuito.s(qr[1])\n",
    "\n",
    "circuito.draw('mpl')"
   ]
  },
  {
   "cell_type": "raw",
   "id": "9c00f3ff-12a9-44da-8059-2fe71ff11a1b",
   "metadata": {},
   "source": [
    "\n",
    "Añadiendo la puerta T. \n"
   ]
  },
  {
   "cell_type": "code",
   "execution_count": 20,
   "id": "6ec0114e-b96e-4167-b1a1-6e0a3ca48726",
   "metadata": {},
   "outputs": [
    {
     "data": {
      "image/png": "[encoded data removed]",
      "text/plain": [
       "<Figure size 789.163x367.889 with 1 Axes>"
      ]
     },
     "execution_count": 20,
     "metadata": {},
     "output_type": "execute_result"
    }
   ],
   "source": [
    "#T = sqr(S)\n",
    "circuito.t(qr[1])\n",
    "circuito.draw('mpl')"
   ]
  },
  {
   "cell_type": "raw",
   "id": "823fcbb4-a47d-41e6-a250-6cb6b97b1936",
   "metadata": {},
   "source": [
    "\n",
    "A las puertas H, S Y T, también podemos aplicarlas en forma 'dagger'. En términos sencillos, el dagger de una puerta cuántica representa su inversa, es decir, la operación que deshace su efecto.\n"
   ]
  },
  {
   "cell_type": "code",
   "execution_count": 21,
   "id": "5b4cc03e-bcd0-4a11-b3e1-af417653d0f3",
   "metadata": {},
   "outputs": [
    {
     "data": {
      "image/png": "[encoded data removed]",
      "text/plain": [
       "<Figure size 872.774x367.889 with 1 Axes>"
      ]
     },
     "execution_count": 21,
     "metadata": {},
     "output_type": "execute_result"
    }
   ],
   "source": [
    "#Aplicando puerta T(dagger) en el Qubit numero1 , para deshacer el efecto de la otra puerta T.\n",
    "circuito.tdg(qr[1])\n",
    "circuito.draw('mpl')"
   ]
  },
  {
   "cell_type": "raw",
   "id": "e674abf1-836d-4f1f-88e0-ecc7fa943ea1",
   "metadata": {},
   "source": [
    "\n",
    "Añadiendo puerta RX.\n"
   ]
  },
  {
   "cell_type": "raw",
   "id": "73881f6f-5842-4dbb-8c90-830d6704d5e9",
   "metadata": {},
   "source": [
    "Se usa para crear superposiciones y manipulaciones de qubits."
   ]
  },
  {
   "cell_type": "code",
   "execution_count": 22,
   "id": "81bdd7f3-28ab-4d1c-ad10-575e6ebcb5bc",
   "metadata": {},
   "outputs": [
    {
     "data": {
      "image/png": "[encoded data removed]",
      "text/plain": [
       "<Figure size 872.774x367.889 with 1 Axes>"
      ]
     },
     "execution_count": 22,
     "metadata": {},
     "output_type": "execute_result"
    }
   ],
   "source": [
    "circuito.rx(np.pi/2,qr[2])\n",
    "circuito.draw('mpl')"
   ]
  },
  {
   "cell_type": "code",
   "execution_count": 23,
   "id": "bb4bd0f9-c7a7-420b-b0c3-c1007fb0b506",
   "metadata": {},
   "outputs": [
    {
     "data": {
      "text/plain": [
       "<qiskit.circuit.instructionset.InstructionSet at 0x24be4a44280>"
      ]
     },
     "execution_count": 23,
     "metadata": {},
     "output_type": "execute_result"
    }
   ],
   "source": [
    "#Finalizamos este apartado de puertas Single-Q con una barrera para delimitar el final.\n",
    "circuito.barrier(range(nrq))"
   ]
  },
  {
   "cell_type": "code",
   "execution_count": 24,
   "id": "35ef7ca0-7dd0-42f5-b749-4745543e2a10",
   "metadata": {},
   "outputs": [
    {
     "data": {
      "image/png": "[encoded data removed]",
      "text/plain": [
       "<Figure size 956.385x367.889 with 1 Axes>"
      ]
     },
     "execution_count": 24,
     "metadata": {},
     "output_type": "execute_result"
    }
   ],
   "source": [
    "circuito.draw('mpl')"
   ]
  },
  {
   "cell_type": "markdown",
   "id": "ced65445-0448-4c9f-8ee1-f5cac42289b9",
   "metadata": {},
   "source": [
    "# 4: Puertas Múltiples:"
   ]
  },
  {
   "cell_type": "raw",
   "id": "bd7d7396-0bf5-4b3e-9da1-8a5362402801",
   "metadata": {
    "vscode": {
     "languageId": "raw"
    }
   },
   "source": [
    "Las puertas cuánticas de múltiples qubits permiten la interacción entre qubits en un circuito cuántico.\n",
    "\n",
    "Las puertas controladas aplican una operación en un qubit objetivo solo si el qubit de control está en el estado |1⟩.\n",
    "\n",
    "    -CNOT aplica una NOT en el objetivo si el control es |1⟩.\n",
    "    -CCNOT (Toffoli) es una CNOT con dos controles.\n",
    "    -CZ aplica una Z en el objetivo si el control es |1⟩.\n",
    "    -CS y CT son versiones controladas de las puertas S y T.\n",
    "    \n",
    "Las puertas de entrelazamiento generan correlaciones entre qubits.\n",
    "\n",
    "    -SWAP intercambia los estados de dos qubits.\n",
    "    -iSWAP intercambia los estados con una fase adicional.\n",
    "    -CSWAP (Fredkin) intercambia dos qubits solo si el qubit de control es |1⟩.\n",
    "        \n",
    "Las puertas de rotación controladas aplican una rotación condicional sobre el qubit objetivo.\n",
    "\n",
    "    -CRX aplica una rotación RX si el control es |1⟩.\n",
    "    -CRY aplica una rotación RY si el control es |1⟩.\n",
    "    -CRZ aplica una rotación RZ si el control es |1⟩.\n",
    "        \n",
    "CU es una versión general de una puerta unitaria controlada."
   ]
  },
  {
   "cell_type": "code",
   "execution_count": 25,
   "id": "3b79dca0-78b7-4d87-889f-690ae387ea06",
   "metadata": {},
   "outputs": [],
   "source": [
    "nrq = 3 \n",
    "nrc = 3"
   ]
  },
  {
   "cell_type": "code",
   "execution_count": 26,
   "id": "51024efe-7cb5-4dce-92b1-d02e25b6bc6f",
   "metadata": {},
   "outputs": [],
   "source": [
    "qr = QuantumRegister(nrq, name='q')\n",
    "qc = ClassicalRegister(nrc, name='c')"
   ]
  },
  {
   "cell_type": "code",
   "execution_count": 27,
   "id": "295986c1-fbee-4418-b556-a2dccee6bc9e",
   "metadata": {},
   "outputs": [],
   "source": [
    "circuito_puertas_multi = QuantumCircuit(qr , cr , name='quantum circuit multi gate')"
   ]
  },
  {
   "cell_type": "code",
   "execution_count": 28,
   "id": "54d5435f-4b30-4248-b91e-38c06eed155f",
   "metadata": {},
   "outputs": [
    {
     "data": {
      "image/png": "[encoded data removed]",
      "text/plain": [
       "<Figure size 162.08x367.889 with 1 Axes>"
      ]
     },
     "execution_count": 28,
     "metadata": {},
     "output_type": "execute_result"
    }
   ],
   "source": [
    "circuito_puertas_multi.draw('mpl')"
   ]
  },
  {
   "cell_type": "raw",
   "id": "c3b6dd4e-2c84-4b67-9d7f-eb1a2f030574",
   "metadata": {},
   "source": [
    "\n",
    "Añadiendo puerta CNOT en el qubit 0 y qubit 1:\n"
   ]
  },
  {
   "cell_type": "code",
   "execution_count": 29,
   "id": "ed5c3ed4-2cb2-47fd-8832-92e1fd0c9676",
   "metadata": {},
   "outputs": [
    {
     "data": {
      "text/plain": [
       "<qiskit.circuit.instructionset.InstructionSet at 0x24be4ad6650>"
      ]
     },
     "execution_count": 29,
     "metadata": {},
     "output_type": "execute_result"
    }
   ],
   "source": [
    "circuito_puertas_multi.cx(qr[0],qr[1])\n",
    "#El primer parámetro es el qubit de control, condiciononante(0).\n",
    "#El segundo parametro es el qubit objetivo, condicionado(1).\n"
   ]
  },
  {
   "cell_type": "code",
   "execution_count": 30,
   "id": "68213d9a-00a9-4789-8cac-62c1868ccc02",
   "metadata": {},
   "outputs": [
    {
     "data": {
      "image/png": "[encoded data removed]",
      "text/plain": [
       "<Figure size 203.885x367.889 with 1 Axes>"
      ]
     },
     "execution_count": 30,
     "metadata": {},
     "output_type": "execute_result"
    }
   ],
   "source": [
    "circuito_puertas_multi.draw('mpl')"
   ]
  },
  {
   "cell_type": "raw",
   "id": "c1967721-f9cc-449b-aa1b-392564704eb4",
   "metadata": {},
   "source": [
    "\n",
    "Añadiendo más puertas logicas: (Control Y[C-Y], Control Z[C-Z] y Control H[C-H]:\n"
   ]
  },
  {
   "cell_type": "code",
   "execution_count": 31,
   "id": "2e077cd4-830d-4a6d-9a1a-e25c42a5015c",
   "metadata": {},
   "outputs": [
    {
     "data": {
      "image/png": "[encoded data removed]",
      "text/plain": [
       "<Figure size 454.719x367.889 with 1 Axes>"
      ]
     },
     "execution_count": 31,
     "metadata": {},
     "output_type": "execute_result"
    }
   ],
   "source": [
    "circuito_puertas_multi.cy(qr[1],qr[2])\n",
    "circuito_puertas_multi.cz(qr[2],qr[0])\n",
    "circuito_puertas_multi.ch(qr[1],qr[0])\n",
    "\n",
    "circuito_puertas_multi.draw('mpl')\n",
    "\n",
    "#En la puerta C-Z, da igual donde este el extremo del condicionante y del condicionado. Se representa siempre así. Relamente hace el mismo efecto siempre.\n"
   ]
  },
  {
   "cell_type": "raw",
   "id": "b4ae44e1-e9d5-4fe9-b615-50bcaae879c6",
   "metadata": {},
   "source": [
    "\n",
    "Añadiendo puera SWAP:\n"
   ]
  },
  {
   "cell_type": "raw",
   "id": "67ada845-5921-49b6-a973-2b59c22853e9",
   "metadata": {},
   "source": [
    "La puerta SWAP intercambia dos qubits, estos cuales serán indicados por parametro en la instanciación de la puerta."
   ]
  },
  {
   "cell_type": "code",
   "execution_count": 32,
   "id": "d6bc4856-c859-44aa-b703-53ee565fb711",
   "metadata": {},
   "outputs": [
    {
     "data": {
      "image/png": "[encoded data removed]",
      "text/plain": [
       "<Figure size 538.33x367.889 with 1 Axes>"
      ]
     },
     "execution_count": 32,
     "metadata": {},
     "output_type": "execute_result"
    }
   ],
   "source": [
    "circuito_puertas_multi.swap(qr[2],qr[0])\n",
    "circuito_puertas_multi.draw('mpl')"
   ]
  },
  {
   "cell_type": "raw",
   "id": "02acfe1f-fdd9-4985-927a-84e9f4c68d84",
   "metadata": {},
   "source": [
    "\n",
    "Por ultimo, añadimos una puerta Toffoli, con 2 condicionantes y un condicionado.\n"
   ]
  },
  {
   "cell_type": "code",
   "execution_count": 33,
   "id": "6b114d81-39fc-4a42-a565-275937524157",
   "metadata": {},
   "outputs": [
    {
     "data": {
      "image/png": "[encoded data removed]",
      "text/plain": [
       "<Figure size 621.941x367.889 with 1 Axes>"
      ]
     },
     "execution_count": 33,
     "metadata": {},
     "output_type": "execute_result"
    }
   ],
   "source": [
    "circuito_puertas_multi.ccx(qr[0],qr[2],qr[1])\n",
    "circuito_puertas_multi.draw('mpl')"
   ]
  },
  {
   "cell_type": "raw",
   "id": "3bb97528-55c9-4112-ab67-4a865efacc01",
   "metadata": {},
   "source": [
    "\n",
    "Al final del Jupyter Notebook, se explica de una manera mas técnica y detallada el funcionamiento de las puertas lógicas, como repaso al paradigma de programación general, y a las puertas cuánticas, indicando su funcionamiento, y su utilidad a la hora de formar nuestros propios circuitos cuánticos, para poder calcular distitnos valores o probabilidades. La idea hasta ahora es hacer un showcase general de integración con diferentes tipos de puertas cuánticas que existen, como crear un circuito, y como implementarlas en el.\n",
    "Hasta ahora, cada circuito que generamos con Qiskit no deja de ser un objeto instanciado de esta Clase, en el cual con sus métodos y atributos es capaz de formar un circuito cuántico complejo."
   ]
  },
  {
   "cell_type": "markdown",
   "id": "d3ff5db3-d561-43fe-a79a-03498bd55441",
   "metadata": {},
   "source": [
    "![Imagen representación final](assets/puerta_h.webp)"
   ]
  },
  {
   "cell_type": "markdown",
   "id": "28e57897-fe17-4a49-9fb6-8317e0fe49e6",
   "metadata": {},
   "source": [
    "*Representación artística de una puerta H.*"
   ]
  },
  {
   "cell_type": "markdown",
   "id": "2f6c4b12-2330-4eaf-a2e6-451d123b0c1f",
   "metadata": {},
   "source": [
    "---"
   ]
  },
  {
   "cell_type": "markdown",
   "id": "71ca5d48-00f7-49bc-8030-cb79f745eef8",
   "metadata": {},
   "source": [
    "# 5: Medición de los Qubits."
   ]
  },
  {
   "cell_type": "raw",
   "id": "8833d062-9ef1-4243-b54b-8ba7721b4310",
   "metadata": {},
   "source": [
    "El sentido de crear diferentes circuitos cuánticos, utilizando quantum gates, realmente es hacer una medición de esos qubits, para a través de esta observación, determinar en que estado se encuentran ( 0 ó 1 ), sacándolos de el estado de superposición cuántica.\n",
    "\n",
    "...\n",
    "\n",
    "De este modo, la medición colapsa la función de onda del sistema, transformando la incertidumbre inherente en un resultado concreto. Este proceso es fundamental en la computación cuántica, ya que permite extraer información útil tras manipular los qubits con distintas puertas cuánticas, aprovechando fenómenos como la superposición y el entrelazamiento para realizar cálculos que serían ineficientes o imposibles en computadoras clásicas."
   ]
  },
  {
   "cell_type": "code",
   "execution_count": null,
   "id": "7a41dc36-ddea-435b-8e87-d08c3cbc6324",
   "metadata": {},
   "outputs": [],
   "source": [
    "#Vamos a crear desde cero un nuevo circuito para después, agregar las puertas de medición , o measures.\n"
   ]
  },
  {
   "cell_type": "code",
   "execution_count": 34,
   "id": "504d62a4-3dc5-4eaa-b233-8f7f6b2f6a1f",
   "metadata": {},
   "outputs": [
    {
     "data": {
      "image/png": "[encoded data removed]",
      "text/plain": [
       "<Figure size 162.08x367.889 with 1 Axes>"
      ]
     },
     "execution_count": 34,
     "metadata": {},
     "output_type": "execute_result"
    }
   ],
   "source": [
    "quantum_circuit = QuantumCircuit(qr , cr , name ='quan_circ')\n",
    "quantum_circuit.draw('mpl')"
   ]
  },
  {
   "cell_type": "code",
   "execution_count": 35,
   "id": "287c0d01-8c95-4dd0-b7dc-0ab3c192f04c",
   "metadata": {},
   "outputs": [
    {
     "data": {
      "image/png": "[encoded data removed]",
      "text/plain": [
       "<Figure size 287.496x367.889 with 1 Axes>"
      ]
     },
     "execution_count": 35,
     "metadata": {},
     "output_type": "execute_result"
    }
   ],
   "source": [
    "#Añadimosal circuito tres puertas: una puerta X, una puerta H y una puerta CX:\n",
    "quantum_circuit.x(qr[1])\n",
    "quantum_circuit.h(qr[0])\n",
    "quantum_circuit.cx(qr[0],qr[1])\n",
    "\n",
    "quantum_circuit.draw('mpl')\n"
   ]
  },
  {
   "cell_type": "code",
   "execution_count": 36,
   "id": "6e4e385f-374d-45fd-b16e-b1d8be09d1bd",
   "metadata": {},
   "outputs": [
    {
     "data": {
      "text/plain": [
       "<qiskit.circuit.instructionset.InstructionSet at 0x24be47e31f0>"
      ]
     },
     "execution_count": 36,
     "metadata": {},
     "output_type": "execute_result"
    }
   ],
   "source": [
    "#Hacemos la medición:\n",
    "quantum_circuit.measure(qr,cr)  #--> aqui le estamos diciendo que mida la totalidad de los qubits(qr), y los guarde en los registros clásicos(cr)"
   ]
  },
  {
   "cell_type": "code",
   "execution_count": 37,
   "id": "b463fa19-cd4a-42f8-8459-8dedfb86f00b",
   "metadata": {},
   "outputs": [
    {
     "data": {
      "image/png": "[encoded data removed]",
      "text/plain": [
       "<Figure size 454.719x367.889 with 1 Axes>"
      ]
     },
     "execution_count": 37,
     "metadata": {},
     "output_type": "execute_result"
    }
   ],
   "source": [
    "quantum_circuit.draw('mpl')"
   ]
  },
  {
   "cell_type": "markdown",
   "id": "d5b325b9-52bd-4e6a-a816-102a99c104e3",
   "metadata": {},
   "source": [
    "Con esto, ya tendríamos preparados los medidores. En este punto cabe destacar que prodíamos no querer hacer la medición de alguno de los 3 qubits. No estaremos obligados a poner un medidor en cada qubit. También decir que podemos alternar el orden de medición en el registro clásico, de modo que el qubit n´ñumero 1 podría guardarse en el registro clásico 3, en vez de en el registro clásico 1. Por esta razón, es importante tener al menos el mismo número de registros clásicos que de qubits, como se ha citado al principio del Jupyter Notebook."
   ]
  },
  {
   "cell_type": "markdown",
   "id": "9cf99a68-0b1a-4f8b-a2bd-6a9f6d8c157d",
   "metadata": {},
   "source": [
    "![Imagen representación final](assets/medidor_qubits.webp)"
   ]
  },
  {
   "cell_type": "markdown",
   "id": "87de37e2-b89f-4be0-9fc6-75f9a2db5852",
   "metadata": {},
   "source": [
    "*Imagen: Medidor de qubits, con un estilo inspirado en los grabados científicos del siglo XIX.*"
   ]
  },
  {
   "cell_type": "markdown",
   "id": "4b305353-3db0-4802-b2fd-5bd69bfcb407",
   "metadata": {},
   "source": [
    "---"
   ]
  },
  {
   "cell_type": "markdown",
   "id": "cdc22b0c-74b7-4a39-a29f-91cdd576d6e2",
   "metadata": {},
   "source": [
    "# Caso Práctico"
   ]
  },
  {
   "cell_type": "markdown",
   "id": "d41b7734-3294-4a0f-99df-773067ce3b6d",
   "metadata": {},
   "source": [
    "**Superposición con una puerta Hadamard**\n",
    "\n",
    "Este ejercicio introductorio te permitirá visualizar cómo un qubit pasa de un estado clásico (|0⟩ o |1⟩) a una superposición usando la puerta Hadamard (H). Luego, mediremos el qubit para ver los resultados.\n",
    "\n",
    "**Objetivo**\n",
    "\n",
    "Crear un circuito cuántico con un solo qubit, aplicarle una puerta Hadamard y medir su estado. Observaremos que el resultado es 50% |0⟩ y 50% |1⟩, demostrando la superposición."
   ]
  },
  {
   "cell_type": "code",
   "execution_count": 3,
   "id": "ee39a0f7-504b-44be-b97d-78cf8ddc80f4",
   "metadata": {},
   "outputs": [
    {
     "ename": "ImportError",
     "evalue": "cannot import name 'BasicAer' from 'qiskit' (c:\\Users\\Héctor\\OneDrive\\Escritorio\\Programación Cuántica - Qiskit\\qiskit-env\\lib\\site-packages\\qiskit\\__init__.py)",
     "output_type": "error",
     "traceback": [
      "\u001b[1;31m---------------------------------------------------------------------------\u001b[0m",
      "\u001b[1;31mImportError\u001b[0m                               Traceback (most recent call last)",
      "Cell \u001b[1;32mIn[3], line 2\u001b[0m\n\u001b[0;32m      1\u001b[0m \u001b[38;5;66;03m#importamos librerias necesarias:\u001b[39;00m\n\u001b[1;32m----> 2\u001b[0m \u001b[38;5;28;01mfrom\u001b[39;00m\u001b[38;5;250m \u001b[39m\u001b[38;5;21;01mqiskit\u001b[39;00m\u001b[38;5;250m \u001b[39m\u001b[38;5;28;01mimport\u001b[39;00m BasicAer, execute\n\u001b[0;32m      5\u001b[0m \u001b[38;5;66;03m#El hecho de importar todo de una librería es una mala praxis. Aquí se hace por razones de estabilidad en el entorno virtual venv.\u001b[39;00m\n",
      "\u001b[1;31mImportError\u001b[0m: cannot import name 'BasicAer' from 'qiskit' (c:\\Users\\Héctor\\OneDrive\\Escritorio\\Programación Cuántica - Qiskit\\qiskit-env\\lib\\site-packages\\qiskit\\__init__.py)"
     ]
    }
   ],
   "source": [
    "#importamos librerias necesarias:\n",
    "from qiskit import BasicAer, execute\n",
    "\n",
    "\n",
    "#El hecho de importar todo de una librería es una mala praxis. Aquí se hace por razones de estabilidad en el entorno virtual venv."
   ]
  },
  {
   "cell_type": "code",
   "execution_count": 1,
   "id": "7c6203d9",
   "metadata": {},
   "outputs": [
    {
     "ename": "NameError",
     "evalue": "name 'QuantumCircuit' is not defined",
     "output_type": "error",
     "traceback": [
      "\u001b[1;31m---------------------------------------------------------------------------\u001b[0m",
      "\u001b[1;31mNameError\u001b[0m                                 Traceback (most recent call last)",
      "Cell \u001b[1;32mIn[1], line 2\u001b[0m\n\u001b[0;32m      1\u001b[0m \u001b[38;5;66;03m#Creación del circuito cuántico con 1 qubit y 1 bit clásico.\u001b[39;00m\n\u001b[1;32m----> 2\u001b[0m qc \u001b[38;5;241m=\u001b[39m \u001b[43mQuantumCircuit\u001b[49m(\u001b[38;5;241m1\u001b[39m,\u001b[38;5;241m1\u001b[39m)\n",
      "\u001b[1;31mNameError\u001b[0m: name 'QuantumCircuit' is not defined"
     ]
    }
   ],
   "source": [
    "#Creación del circuito cuántico con 1 qubit y 1 bit clásico.\n",
    "qc = QuantumCircuit(1,1)"
   ]
  },
  {
   "cell_type": "code",
   "execution_count": 7,
   "id": "30edbdba",
   "metadata": {},
   "outputs": [
    {
     "data": {
      "image/png": "[encoded data removed]",
      "text/plain": [
       "<Figure size 185.453x200.667 with 1 Axes>"
      ]
     },
     "execution_count": 7,
     "metadata": {},
     "output_type": "execute_result"
    }
   ],
   "source": [
    "#Aplicamos la puerta Hadamard(H) al qubit.\n",
    "qc.h(0)\n",
    "qc.draw('mpl')"
   ]
  },
  {
   "cell_type": "code",
   "execution_count": 8,
   "id": "309cebc6",
   "metadata": {},
   "outputs": [
    {
     "data": {
      "image/png": "[encoded data removed]",
      "text/plain": [
       "<Figure size 269.064x200.667 with 1 Axes>"
      ]
     },
     "execution_count": 8,
     "metadata": {},
     "output_type": "execute_result"
    }
   ],
   "source": [
    "#Medición del qubit y almacenamiento del resultado enel bit clásico.\n",
    "\n",
    "qc.measure(0,0) # --> Mide el qubit 0 y guarda el resultado en el bit 0.\n",
    "qc.draw('mpl')"
   ]
  },
  {
   "cell_type": "code",
   "execution_count": 9,
   "id": "a385c675",
   "metadata": {},
   "outputs": [
    {
     "ename": "NameError",
     "evalue": "name 'Aer' is not defined",
     "output_type": "error",
     "traceback": [
      "\u001b[1;31m---------------------------------------------------------------------------\u001b[0m",
      "\u001b[1;31mNameError\u001b[0m                                 Traceback (most recent call last)",
      "Cell \u001b[1;32mIn[9], line 2\u001b[0m\n\u001b[0;32m      1\u001b[0m \u001b[38;5;66;03m#Ejecutamos el circuito en el simulador cuántico. Utilizaremos el simulador QUASM para ejecutar el circuito y ver las probabilidades.\u001b[39;00m\n\u001b[1;32m----> 2\u001b[0m simulador \u001b[38;5;241m=\u001b[39m \u001b[43mAer\u001b[49m\u001b[38;5;241m.\u001b[39mget_backend(\u001b[38;5;124m'\u001b[39m\u001b[38;5;124mqasm_simulator\u001b[39m\u001b[38;5;124m'\u001b[39m)\n\u001b[0;32m      3\u001b[0m \u001b[38;5;66;03m#Ejecutamos el circuito 1024 veces para obtener estadisticas.\u001b[39;00m\n\u001b[0;32m      4\u001b[0m job \u001b[38;5;241m=\u001b[39m execute(qc, simulador, shots\u001b[38;5;241m=\u001b[39m\u001b[38;5;241m1024\u001b[39m)\n",
      "\u001b[1;31mNameError\u001b[0m: name 'Aer' is not defined"
     ]
    }
   ],
   "source": [
    "#Ejecutamos el circuito en el simulador cuántico. Utilizaremos el simulador QUASM para ejecutar el circuito y ver las probabilidades.\n",
    "simulador = Aer.get_backend('qasm_simulator')\n",
    "#Ejecutamos el circuito 1024 veces para obtener estadisticas.\n",
    "job = execute(qc, simulador, shots=1024)\n",
    "#Obtenemos los resultados\n",
    "resultados = job.result()\n",
    "counts = resultados.get_counts(qc)"
   ]
  },
  {
   "cell_type": "code",
   "execution_count": 48,
   "id": "bfc0e514",
   "metadata": {},
   "outputs": [
    {
     "ename": "NameError",
     "evalue": "name 'plot_histogram' is not defined",
     "output_type": "error",
     "traceback": [
      "\u001b[1;31m---------------------------------------------------------------------------\u001b[0m",
      "\u001b[1;31mNameError\u001b[0m                                 Traceback (most recent call last)",
      "Cell \u001b[1;32mIn[48], line 2\u001b[0m\n\u001b[0;32m      1\u001b[0m \u001b[38;5;66;03m#Mostramos el histograma de los resultados:\u001b[39;00m\n\u001b[1;32m----> 2\u001b[0m \u001b[43mplot_histogram\u001b[49m(counts)\n",
      "\u001b[1;31mNameError\u001b[0m: name 'plot_histogram' is not defined"
     ]
    }
   ],
   "source": [
    "#Mostramos el histograma de los resultados:\n",
    "plot_histogram(counts)"
   ]
  },
  {
   "cell_type": "markdown",
   "id": "86efa427-3c0a-47fb-9fa7-4fd4036e17d1",
   "metadata": {},
   "source": [
    "**Explicación de los resultados:**\n",
    "\n",
    "La puerta Hadamard coloca el qubit en un estado 50% |0⟩ y 50% |1⟩.\n",
    "\n",
    "Como la medición colapsa el estado cuántico, cada vez que ejecutemos el circuito, el resultado será aleatorio (|0⟩ o |1⟩).\n",
    "\n",
    "El histograma mostrará aproximadamente un 50% de ocurrencias para |0⟩ y 50% para |1⟩.\n"
   ]
  },
  {
   "cell_type": "markdown",
   "id": "8880a12e-54c0-410e-b2db-f972d31e7a04",
   "metadata": {},
   "source": [
    "---\n"
   ]
  },
  {
   "cell_type": "markdown",
   "id": "a7e50a8d-a773-4939-83cc-8348b1d55a7c",
   "metadata": {},
   "source": [
    "![Imagen representación final](assets/end.png)"
   ]
  }
 ],
 "metadata": {
  "kernelspec": {
   "display_name": "qiskit-env",
   "language": "python",
   "name": "python3"
  },
  "language_info": {
   "codemirror_mode": {
    "name": "ipython",
    "version": 3
   },
   "file_extension": ".py",
   "mimetype": "text/x-python",
   "name": "python",
   "nbconvert_exporter": "python",
   "pygments_lexer": "ipython3",
   "version": "3.10.0"
  }
 },
 "nbformat": 4,
 "nbformat_minor": 5
}
