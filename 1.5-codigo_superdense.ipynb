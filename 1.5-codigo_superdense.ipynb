{
 "cells": [
  {
   "cell_type": "markdown",
   "metadata": {},
   "source": [
    "#  Pruebas con IBM Quantum Platform Classic."
   ]
  },
  {
   "cell_type": "markdown",
   "metadata": {},
   "source": [
    "![Imagen introduccion](assets/ibm_logo.png\n",
    ")"
   ]
  },
  {
   "cell_type": "markdown",
   "metadata": {},
   "source": [
    "---"
   ]
  },
  {
   "cell_type": "markdown",
   "metadata": {},
   "source": [
    "#### Criptografía y comunicaciones seguras. Ciberseguridad. Programación cuántica."
   ]
  },
  {
   "cell_type": "markdown",
   "metadata": {},
   "source": [
    "---"
   ]
  },
  {
   "cell_type": "markdown",
   "metadata": {},
   "source": [
    "#### **Autor:** *Héctor Ayuso Martín*"
   ]
  },
  {
   "cell_type": "markdown",
   "metadata": {},
   "source": [
    "# Codificación superdensa. Transmisión segura de información."
   ]
  },
  {
   "cell_type": "markdown",
   "metadata": {},
   "source": [
    "![Imagen introduccion](assets/superdense.webp\n",
    ")"
   ]
  },
  {
   "cell_type": "markdown",
   "metadata": {},
   "source": [
    "## Set-up del experimento:\n"
   ]
  },
  {
   "cell_type": "markdown",
   "metadata": {},
   "source": [
    "### Escenario."
   ]
  },
  {
   "cell_type": "markdown",
   "metadata": {},
   "source": [
    "*Laura* tiene dos bits clásicos Z = { 00 , 01 , 10 , 11 }, que desea trasmitir a *Sandro*.\n",
    "\n",
    "> *Laura* solo puede enviar un **único qubit** a *Sandro*.\n",
    "\n",
    "> *Laura* y *Sandro* comparten un par EPR (un e-bit)."
   ]
  },
  {
   "cell_type": "markdown",
   "metadata": {},
   "source": [
    "### Observaciones."
   ]
  },
  {
   "cell_type": "markdown",
   "metadata": {},
   "source": [
    "> Sin el e-bit compartido, la tarea de *Laura* sería imposible.\n",
    "\n",
    "> El Teorema de Holevo dice, que dos bits clásicos no pueden ser trasmitidos de manera fiable, sin errores, usando un solo qubit. Es necesario el entrelazamiento cuántico."
   ]
  },
  {
   "cell_type": "markdown",
   "metadata": {},
   "source": [
    "---"
   ]
  },
  {
   "cell_type": "markdown",
   "metadata": {},
   "source": [
    "# Creación del circuito cuántico para aplicar el experimento."
   ]
  },
  {
   "cell_type": "markdown",
   "metadata": {},
   "source": [
    "![Imagen introduccion](assets/circuito_superdenso.png\n",
    ")"
   ]
  },
  {
   "cell_type": "markdown",
   "metadata": {},
   "source": [
    "*La imagen de arriba es una representación visual del estado transmisor de información, subdivido con los dos actores del experimento.*"
   ]
  },
  {
   "cell_type": "markdown",
   "metadata": {},
   "source": [
    "### Importamos librerias necesarias."
   ]
  },
  {
   "cell_type": "code",
   "execution_count": null,
   "metadata": {},
   "outputs": [],
   "source": [
    "from qiskit import QuantumCircuit, transpile, ClassicalRegister\n",
    "from qiskit_aer import AerSimulator\n",
    "import numpy as np  "
   ]
  },
  {
   "cell_type": "markdown",
   "metadata": {},
   "source": [
    "Esta celda importa Qiskit y Numpy.\n",
    "> QuantumCircuit --> Para crear el circuito cuántico.\n",
    "\n",
    "> AerSimulator --> Para simular la ejecución del circuito en un backend cuántico virtual.\n",
    "\n",
    "> Transpile --> Para optimizar el circuito antes de la simulación."
   ]
  },
  {
   "cell_type": "markdown",
   "metadata": {},
   "source": [
    "### Función para crear el circuito"
   ]
  },
  {
   "cell_type": "code",
   "execution_count": null,
   "metadata": {},
   "outputs": [],
   "source": [
    "def crear_circuito_superdenso(bits_a_enviar):\n",
    " \n",
    "    # Crear un circuito nuevo.\n",
    "    \n",
    "    circuito = QuantumCircuit(2)\n",
    "    creg = ClassicalRegister(2, 'c')  # Registro clásico para almacenar mediciones\n",
    "    circuito.add_register(creg)\n",
    "\n",
    "    # Creación del par EPR de Laura y Sandro.\n",
    "    \n",
    "    circuito.h(0)  # Hadamard en el primer qubit\n",
    "    circuito.cx(0, 1)  # CNOT para generar el estado de Bell\n",
    "\n",
    "    # Laura codifica los bits clásicos en su qubit.\n",
    "    \n",
    "    if bits_a_enviar == \"01\":\n",
    "        circuito.x(0)  # Aplica X si el primer bit es 1\n",
    "        \n",
    "    elif bits_a_enviar == \"10\":\n",
    "        circuito.z(0)  # Aplica Z si el segundo bit es 1\n",
    "        \n",
    "    elif bits_a_enviar == \"11\":\n",
    "        circuito.x(0)\n",
    "        circuito.z(0)  # Aplica X y Z si ambos bits son 1\n",
    "\n",
    "    # Sandro decodifica el mensaje\n",
    "    \n",
    "    circuito.cx(0, 1)  # Deshace el entrelazamiento\n",
    "    circuito.h(0)  # Hadamard en el primer qubit\n",
    "\n",
    "    # Hacemos la medición\n",
    "    \n",
    "    circuito.measure([0, 1], [1, 0])  # Invertimos el orden de los bits clásicos, Qiskit invierte por defecto este orden..\n",
    "\n",
    "\n",
    "    # Retornamos el circuito\n",
    "    \n",
    "    return circuito"
   ]
  },
  {
   "cell_type": "markdown",
   "metadata": {},
   "source": [
    "> Cuando llamamos a esta función, nos devuelve un circuito peparado para el envio de información.\n",
    "\n",
    "> Se reciben 2 bits en formato String, y Laura aplica las puertas cuánticas correspondientes."
   ]
  },
  {
   "cell_type": "markdown",
   "metadata": {},
   "source": [
    "### Definimos los bits que Laura quiere enviar a Sandro."
   ]
  },
  {
   "cell_type": "code",
   "execution_count": 3,
   "metadata": {},
   "outputs": [],
   "source": [
    "bits_a_enviar = \"11\"  # Puedes cambiar este valor a Z = { 00 , 01 , 10 , 11}"
   ]
  },
  {
   "cell_type": "markdown",
   "metadata": {},
   "source": [
    "> Aquí se define que mensaje de **2 bits clásicos** va a enviar Laura.\n",
    "\n",
    "> Se invita al lector a cambiar el valor de los dos bits y ejecutar de nuevo el experimento."
   ]
  },
  {
   "cell_type": "markdown",
   "metadata": {},
   "source": [
    "### Creamos el circuito."
   ]
  },
  {
   "cell_type": "code",
   "execution_count": 4,
   "metadata": {},
   "outputs": [],
   "source": [
    "circuito = crear_circuito_superdenso(bits_a_enviar)"
   ]
  },
  {
   "cell_type": "markdown",
   "metadata": {},
   "source": [
    "### Visualizamos el circuito."
   ]
  },
  {
   "cell_type": "code",
   "execution_count": null,
   "metadata": {},
   "outputs": [
    {
     "name": "stdout",
     "output_type": "stream",
     "text": [
      "\n",
      "Circuito cuántico:\n"
     ]
    },
    {
     "data": {
      "image/png": "[encoded data removed]",
      "text/plain": [
       "<Figure size 705.35x284.278 with 1 Axes>"
      ]
     },
     "execution_count": 5,
     "metadata": {},
     "output_type": "execute_result"
    }
   ],
   "source": [
    "print(\"\\nCircuito cuántico:\")\n",
    "\n",
    "circuito.draw('mpl')"
   ]
  },
  {
   "cell_type": "markdown",
   "metadata": {},
   "source": [
    "### Ejecutamos la simulación."
   ]
  },
  {
   "cell_type": "code",
   "execution_count": 6,
   "metadata": {},
   "outputs": [],
   "source": [
    "simulador = AerSimulator()\n",
    "\n",
    "circuito_transpilado = transpile(circuito, simulador)\n",
    "\n",
    "resultado = simulador.run(circuito_transpilado, shots=1024).result()\n",
    "\n",
    "cuentas = resultado.get_counts()"
   ]
  },
  {
   "cell_type": "markdown",
   "metadata": {},
   "source": [
    "> Primero \"transpilamos\" el circuito para que se adapte mejor al simulador.\n",
    "\n",
    "> Ejecutamos la simulación 1024 veces y alamcenamos los resultados.\n",
    "\n",
    "> cuentas contendrá el número de veces que apareció cada resultado posible, { 00 , 01 , 10 , 11}"
   ]
  },
  {
   "cell_type": "markdown",
   "metadata": {},
   "source": [
    "### Ver los resultados de la medición"
   ]
  },
  {
   "cell_type": "code",
   "execution_count": null,
   "metadata": {},
   "outputs": [
    {
     "name": "stdout",
     "output_type": "stream",
     "text": [
      "\n",
      "Resultados de la medición:\n",
      "  11 → 1024 veces\n"
     ]
    }
   ],
   "source": [
    "print(\"\\nResultados de la medición:\")\n",
    "\n",
    "for key, value in cuentas.items():\n",
    "    print(f\"  {key} → {value} veces\")"
   ]
  },
  {
   "cell_type": "markdown",
   "metadata": {},
   "source": [
    "> Mostramos cuántas veces aparecdio para par de bits\n",
    "\n",
    "> Si el experimento esta yendo bién, el valor mas frecuente debería ser el valor de los bits enviados por Laura."
   ]
  },
  {
   "cell_type": "markdown",
   "metadata": {},
   "source": [
    "### Comparamos los bits enviados por Laura en origen, y los bits recibidos por Sandro en destino."
   ]
  },
  {
   "cell_type": "code",
   "execution_count": null,
   "metadata": {},
   "outputs": [
    {
     "name": "stdout",
     "output_type": "stream",
     "text": [
      "\n",
      "Sandro ha recibido los bits: 11\n",
      "\n",
      "Coinciden con los bits originales de Laura: Sí\n",
      "\n",
      "ÉXITO EN LA COMUNICACIÓN\n"
     ]
    }
   ],
   "source": [
    "bits_recibidos = max(cuentas, key=cuentas.get)\n",
    "\n",
    "print(f\"\\nSandro ha recibido los bits: {bits_recibidos}\")\n",
    "print('')\n",
    "print(f\"Coinciden con los bits originales de Laura: {'Sí' if bits_recibidos == bits_a_enviar else 'No'}\")\n",
    "print('')\n",
    "\n",
    "if bits_recibidos == bits_a_enviar:\n",
    "    print('ÉXITO EN LA COMUNICACIÓN')\n",
    "    "
   ]
  },
  {
   "cell_type": "markdown",
   "metadata": {},
   "source": [
    "> Esto toma el resultado **más frecuente** de la medición.\n",
    "\n",
    "> Se compara con los bits originales para verificar la transmisión."
   ]
  },
  {
   "cell_type": "markdown",
   "metadata": {},
   "source": [
    "La codificación superdensa no solo demuestra la superioridad de la computación cuántica en la transmisión de información , sino que también plantea un nuevo paradigma en la ciberseguridad y la criptografía. A través del entrelazamiento cuántico, se logra enviar dos bits de información utilizando un solo qubit, reduciendo la necesidad de canales clásicos y abriendo la puerta a comunicaciones más eficientes y, sobre todo, más seguras. En un mundo donde el espionaje digital y la interceptación de datos son amenazas constantes, la codificación superdensa ofrece un método donde la nformación no puede ser leída sin alterar su estado, proporcionando una detección inmediata de cualquier intento de intervención. Al ejecutar este experimento, comprobamos como Laura y Sandro pueden intercambiar datos con un nivel de confidencialidad que la criptografia clásica no puede igualar. En la actualidad, los sistemas de cifrado dependen de la dificultad matemática para resistir ataques, pero con la llegada de la computación cuántica, esos esquemas podrían volverse obsoletos. La codificación superdensa es un paso más hacia una infraestructura cuántica donde la transmisión de información no solo es más eficiente, sino también más resistente a la vigilancia y la manipulación. Con este experimento, exploramos un mecanismo que podría redefinir la seguridad de las redes, permitiendo conexiones inviolables que garanticen la integridad y privacidad de los datos en la era de la ciber guerra."
   ]
  },
  {
   "cell_type": "markdown",
   "metadata": {},
   "source": [
    "1 qubit de comunicación cuántica  \n",
    "    ⟺     \n",
    "    2 bits de comunicación clásica\n",
    "\n"
   ]
  },
  {
   "cell_type": "markdown",
   "metadata": {},
   "source": [
    "![Imagen introduccion](assets/quantum_spy.webp\n",
    ")"
   ]
  },
  {
   "cell_type": "markdown",
   "metadata": {},
   "source": [
    "---"
   ]
  },
  {
   "cell_type": "markdown",
   "metadata": {},
   "source": [
    "![Imagen introduccion](assets/flag.png\n",
    ")"
   ]
  },
  {
   "cell_type": "markdown",
   "metadata": {},
   "source": [
    "> Barcelona, 4 de Marzo de 2025"
   ]
  }
 ],
 "metadata": {
  "kernelspec": {
   "display_name": "Python 3",
   "language": "python",
   "name": "python3"
  },
  "language_info": {
   "codemirror_mode": {
    "name": "ipython",
    "version": 3
   },
   "file_extension": ".py",
   "mimetype": "text/x-python",
   "name": "python",
   "nbconvert_exporter": "python",
   "pygments_lexer": "ipython3",
   "version": "3.12.4"
  }
 },
 "nbformat": 4,
 "nbformat_minor": 2
}
