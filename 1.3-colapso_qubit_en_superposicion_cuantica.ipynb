{
 "cells": [
  {
   "cell_type": "markdown",
   "metadata": {},
   "source": [
    "#  Pruebas con IBM Quantum Platform Classic."
   ]
  },
  {
   "cell_type": "markdown",
   "metadata": {},
   "source": [
    "![Imagen introduccion](assets/ibm_logo.png\n",
    ")"
   ]
  },
  {
   "cell_type": "markdown",
   "metadata": {},
   "source": [
    "---"
   ]
  },
  {
   "cell_type": "markdown",
   "metadata": {},
   "source": [
    "---"
   ]
  },
  {
   "cell_type": "markdown",
   "metadata": {},
   "source": [
    "#### **Autor:** *Héctor Ayuso Martín*"
   ]
  },
  {
   "cell_type": "markdown",
   "metadata": {},
   "source": [
    "![Imagen introduccion](assets/colapso.webp\n",
    ")"
   ]
  },
  {
   "cell_type": "markdown",
   "metadata": {},
   "source": [
    "## Grafismos de probabilidad de colapso de un Qubit en superposición a uno de sus dos estados básicos. ##"
   ]
  },
  {
   "cell_type": "markdown",
   "metadata": {},
   "source": [
    ">QPU = IBM_Brisbane\n"
   ]
  },
  {
   "cell_type": "markdown",
   "metadata": {},
   "source": [
    "Vamos a crear un circuito sencillo de 1 qubit que, partiendo del estado |0⟩, le aplicamos una puerta Hadamard (H) y lo medimos. \n",
    "\n",
    "Al ejecutar este circuito con 1000 \"shots\" en un QPU real (por ejemplo, en ibm_brisbane), podremos ver la distribución de resultados: aproximadamente un 50% de |0⟩ y un 50% de |1⟩. \n",
    "\n",
    "Como el circuito se va a aplicar en un QPU real, esperamos encontrar ciertas variaciones por ruidoy decoherencia cuántica. Elegiremos de nuevo la ibm_brisbane, en Alemania, con 127 qubits de potencia y un procesador cuántico de la familia Eagle III.\n",
    "\n",
    "\n",
    "Recuerdo aquí que si queréis replicar el experimento vosotros, necesitareis primero registraros en IBM Quantum, para obtener vuestra API KEY personal del servicio. Aquí se usa mi API personal, guardada en un archivo de configuración llamado config.ini, el cual se encuentra aplicado en .gitignore."
   ]
  },
  {
   "cell_type": "markdown",
   "metadata": {},
   "source": [
    "## Paso 1: Construcción del circuito."
   ]
  },
  {
   "cell_type": "markdown",
   "metadata": {
    "vscode": {
     "languageId": "plaintext"
    }
   },
   "source": [
    "Creamos un circuito con un qubit y un bit clásico, luego aplicamos una puerta Hadamard al qubit para trasnformar el estado |0) inicial en un estado en superposición positiva |+).\n",
    "\n",
    "El estado de superposición positiva |+) podemos representarlo de forma lineal como:\n",
    "\n",
    "\n",
    "\n",
    " $$\\frac{\\lvert 0 \\rangle + \\lvert 1 \\rangle}{\\sqrt{2}}$$\n",
    "\n",
    "\n",
    "\n",
    "\n",
    "Por último, medimos el qubit, y con este hecho, lo obligamos a colapsar en uno de sus dos estados básicos: |0) ó |1). A partir de aquí se comportará como un bit clásico ( 0 ó 1)"
   ]
  },
  {
   "cell_type": "code",
   "execution_count": 2,
   "metadata": {},
   "outputs": [],
   "source": [
    "#Importamos librerias necesarias....\n",
    "\n",
    "from qiskit import QuantumCircuit, transpile\n",
    "import matplotlib.pyplot as plt\n",
    "from qiskit_ibm_runtime import QiskitRuntimeService\n",
    "import configparser"
   ]
  },
  {
   "cell_type": "code",
   "execution_count": 3,
   "metadata": {},
   "outputs": [
    {
     "data": {
      "image/png": "[encoded data removed]",
      "text/plain": [
       "<Figure size 269.064x200.667 with 1 Axes>"
      ]
     },
     "execution_count": 3,
     "metadata": {},
     "output_type": "execute_result"
    }
   ],
   "source": [
    "#Creamos el circuito: 1 qubit y 1 bit\n",
    "circuito = QuantumCircuit(1,1)\n",
    "#Añadimos puerta Hadamard\n",
    "circuito.h(0)\n",
    "#Medimos el qubit[0] en el bit[0]:\n",
    "circuito.measure(0,0)\n",
    "#Printeamos el circuito\n",
    "circuito.draw('mpl')"
   ]
  },
  {
   "cell_type": "code",
   "execution_count": 4,
   "metadata": {},
   "outputs": [],
   "source": [
    "#Cargamos la configuración con la API\n",
    "configuracion = configparser.ConfigParser()\n",
    "configuracion.read('config.ini')\n",
    "api_key = configuracion['IBM']['api_key']"
   ]
  },
  {
   "cell_type": "code",
   "execution_count": 5,
   "metadata": {},
   "outputs": [],
   "source": [
    "# Configuramos la apertura de la cuenta en IBM Quantum\n",
    "QiskitRuntimeService.save_account(token=api_key, channel='ibm_quantum', overwrite=True)\n"
   ]
  },
  {
   "cell_type": "code",
   "execution_count": 6,
   "metadata": {},
   "outputs": [],
   "source": [
    "#Nos conectamos y seleccionamos el QPU como backend:\n",
    "service = QiskitRuntimeService()\n",
    "backend_name = 'ibm_brisbane'\n",
    "backend = service.backend('ibm_brisbane') #intentar luego poner aqui el aer como simulador!!!!!!!!!!!!!!!!!!!"
   ]
  },
  {
   "cell_type": "code",
   "execution_count": 41,
   "metadata": {},
   "outputs": [
    {
     "data": {
      "text/plain": [
       "'\\nEl transpile lo “traduce” y ajusta para que encaje con las restricciones físicas y la topología del chip cuántico, \\nreduciendo la complejidad y mejorando la fidelidad de la ejecución.\\nPara una ejecución en un backend simulado, no hace falta \"transpilar\" el circuito\\n\\n'"
      ]
     },
     "execution_count": 41,
     "metadata": {},
     "output_type": "execute_result"
    }
   ],
   "source": [
    "#Transpilamos el circuito\n",
    "circuito_transpilado = transpile(circuito, backend)\n",
    "\n",
    "\"\"\"\n",
    "El transpile lo “traduce” y ajusta para que encaje con las restricciones físicas y la topología del chip cuántico, \n",
    "reduciendo la complejidad y mejorando la fidelidad de la ejecución.\n",
    "Para una ejecución en un backend simulado, no hace falta \"transpilar\" el circuito\n",
    "\n",
    "\"\"\""
   ]
  },
  {
   "cell_type": "code",
   "execution_count": null,
   "metadata": {},
   "outputs": [
    {
     "name": "stdout",
     "output_type": "stream",
     "text": [
      "Se ha mandado el circuito a ibm_brisbane , esta celda puede tardar mas de 1 hora en terminar de ejecutarse, debido a la espera que debemos realizar en la QPU antes de su procesado. Puedes ver la QUEUE en el enlace proporcionado \n"
     ]
    },
    {
     "ename": "RuntimeInvalidStateError",
     "evalue": "'Unable to retrieve result for job cz1j5yq1xvhg008dr4yg. Job was cancelled.'",
     "output_type": "error",
     "traceback": [
      "\u001b[1;31m---------------------------------------------------------------------------\u001b[0m",
      "\u001b[1;31mRuntimeInvalidStateError\u001b[0m                  Traceback (most recent call last)",
      "Cell \u001b[1;32mIn[42], line 9\u001b[0m\n\u001b[0;32m      5\u001b[0m sampler \u001b[38;5;241m=\u001b[39m Sampler(backend)  \n\u001b[0;32m      7\u001b[0m job \u001b[38;5;241m=\u001b[39m sampler\u001b[38;5;241m.\u001b[39mrun([circuito_transpilado])\n\u001b[1;32m----> 9\u001b[0m result \u001b[38;5;241m=\u001b[39m \u001b[43mjob\u001b[49m\u001b[38;5;241;43m.\u001b[39;49m\u001b[43mresult\u001b[49m\u001b[43m(\u001b[49m\u001b[43m)\u001b[49m\n\u001b[0;32m     11\u001b[0m \u001b[38;5;28mprint\u001b[39m(\u001b[38;5;124m\"\u001b[39m\u001b[38;5;124mResultados:\u001b[39m\u001b[38;5;124m\"\u001b[39m, result\u001b[38;5;241m.\u001b[39mquasi_dists)\n",
      "File \u001b[1;32mc:\\Users\\Héctor\\AppData\\Local\\Programs\\Python\\Python312\\Lib\\site-packages\\qiskit_ibm_runtime\\runtime_job_v2.py:139\u001b[0m, in \u001b[0;36mRuntimeJobV2.result\u001b[1;34m(self, timeout, decoder)\u001b[0m\n\u001b[0;32m    137\u001b[0m     \u001b[38;5;28;01mraise\u001b[39;00m RuntimeJobFailureError(\u001b[38;5;124mf\u001b[39m\u001b[38;5;124m\"\u001b[39m\u001b[38;5;124mUnable to retrieve job result. \u001b[39m\u001b[38;5;132;01m{\u001b[39;00merror_message\u001b[38;5;132;01m}\u001b[39;00m\u001b[38;5;124m\"\u001b[39m)\n\u001b[0;32m    138\u001b[0m \u001b[38;5;28;01mif\u001b[39;00m \u001b[38;5;28mself\u001b[39m\u001b[38;5;241m.\u001b[39m_status \u001b[38;5;241m==\u001b[39m \u001b[38;5;124m\"\u001b[39m\u001b[38;5;124mCANCELLED\u001b[39m\u001b[38;5;124m\"\u001b[39m:\n\u001b[1;32m--> 139\u001b[0m     \u001b[38;5;28;01mraise\u001b[39;00m RuntimeInvalidStateError(\n\u001b[0;32m    140\u001b[0m         \u001b[38;5;124m\"\u001b[39m\u001b[38;5;124mUnable to retrieve result for job \u001b[39m\u001b[38;5;132;01m{}\u001b[39;00m\u001b[38;5;124m. \u001b[39m\u001b[38;5;124m\"\u001b[39m \u001b[38;5;124m\"\u001b[39m\u001b[38;5;124mJob was cancelled.\u001b[39m\u001b[38;5;124m\"\u001b[39m\u001b[38;5;241m.\u001b[39mformat(\u001b[38;5;28mself\u001b[39m\u001b[38;5;241m.\u001b[39mjob_id())\n\u001b[0;32m    141\u001b[0m     )\n\u001b[0;32m    143\u001b[0m result_raw \u001b[38;5;241m=\u001b[39m \u001b[38;5;28mself\u001b[39m\u001b[38;5;241m.\u001b[39m_api_client\u001b[38;5;241m.\u001b[39mjob_results(job_id\u001b[38;5;241m=\u001b[39m\u001b[38;5;28mself\u001b[39m\u001b[38;5;241m.\u001b[39mjob_id())\n\u001b[0;32m    145\u001b[0m \u001b[38;5;28;01mreturn\u001b[39;00m _decoder\u001b[38;5;241m.\u001b[39mdecode(result_raw) \u001b[38;5;28;01mif\u001b[39;00m result_raw \u001b[38;5;28;01melse\u001b[39;00m \u001b[38;5;28;01mNone\u001b[39;00m\n",
      "\u001b[1;31mRuntimeInvalidStateError\u001b[0m: 'Unable to retrieve result for job cz1j5yq1xvhg008dr4yg. Job was cancelled.'"
     ]
    }
   ],
   "source": [
    "from qiskit_ibm_runtime import Sampler\n",
    "\n",
    "print(f\"Se ha mandado el circuito a {backend_name} , esta celda puede tardar mas de 1 hora en terminar de ejecutarse, debido a la espera que debemos realizar en la QPU antes de su procesado. Puedes ver la QUEUE en el enlace proporcionado \")\n",
    "\n",
    "sampler = Sampler(backend)  \n",
    "\n",
    "job = sampler.run([circuito_transpilado])\n",
    "\n",
    "result = job.result()\n",
    "\n",
    "print(\"Resultados:\", result.quasi_dists)\n",
    "\n",
    "#Esperando la ejecución: el ID del job para su futura busqueda es: cz1hhrf1xvhg008dr11g"
   ]
  },
  {
   "cell_type": "code",
   "execution_count": null,
   "metadata": {},
   "outputs": [],
   "source": [
    "job_id = 'cz1hhrf1xvhg008dr11g'\n",
    "job = service.job(job_id)\n",
    "result = job.result()\n",
    "\n",
    "counts = result[0].join_data().get_counts() ##aqui la solucion por fin"
   ]
  },
  {
   "cell_type": "markdown",
   "metadata": {},
   "source": [
    "Enlace a IBM: https://quantum-computing.ibm.com\n",
    "\n"
   ]
  },
  {
   "cell_type": "code",
   "execution_count": 40,
   "metadata": {},
   "outputs": [
    {
     "data": {
      "image/png": "[encoded data removed]",
      "text/plain": [
       "<Figure size 640x480 with 1 Axes>"
      ]
     },
     "metadata": {},
     "output_type": "display_data"
    }
   ],
   "source": [
    "#Los graficamos..\n",
    "labels = list(counts.keys())\n",
    "values = list(counts.values())\n",
    "\n",
    "plt.bar(labels, values, color='skyblue')\n",
    "plt.xlabel('Estado medido')\n",
    "plt.ylabel('Número de ocurrencias')\n",
    "plt.title('Distribución de mediciones: Puerta H sobre |0⟩ (1000 shots)')\n",
    "plt.show()"
   ]
  },
  {
   "cell_type": "markdown",
   "metadata": {},
   "source": [
    "Resultados Obtenidos:\n",
    "\n",
    "Teóricamente, la distribución tendría que ser uniforme. 50% para |0) y 50% para |1), pero debido al ruido de fondo, inestabilidad real de los qubits y decoherencia cuántica, podemos observar en el gráfico de barras que hay una ligera desviación.\n",
    "\n",
    "Este exprimento logra representar con hechos reales como un solo qubit en superposición da lugar a una distribución equiprobable tras la medicíon y su colapso a un estado básico."
   ]
  },
  {
   "cell_type": "markdown",
   "metadata": {},
   "source": [
    "---"
   ]
  },
  {
   "cell_type": "markdown",
   "metadata": {},
   "source": [
    "## Repitiendo el experimento, pero ahora en un Backend simulado, no en una QPU real."
   ]
  },
  {
   "cell_type": "markdown",
   "metadata": {},
   "source": [
    "![Imagen introduccion](assets/flag.png\n",
    ")"
   ]
  },
  {
   "cell_type": "markdown",
   "metadata": {},
   "source": [
    "> Barcelona, 1 de Marzo de 2025"
   ]
  }
 ],
 "metadata": {
  "kernelspec": {
   "display_name": "Python 3",
   "language": "python",
   "name": "python3"
  },
  "language_info": {
   "codemirror_mode": {
    "name": "ipython",
    "version": 3
   },
   "file_extension": ".py",
   "mimetype": "text/x-python",
   "name": "python",
   "nbconvert_exporter": "python",
   "pygments_lexer": "ipython3",
   "version": "3.12.4"
  }
 },
 "nbformat": 4,
 "nbformat_minor": 2
}
