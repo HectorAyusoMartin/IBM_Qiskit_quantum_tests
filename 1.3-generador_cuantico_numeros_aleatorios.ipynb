{
 "cells": [
  {
   "cell_type": "markdown",
   "metadata": {},
   "source": [
    "#  Pruebas con IBM Quantum Platform Classic."
   ]
  },
  {
   "cell_type": "markdown",
   "metadata": {},
   "source": [
    "![Imagen introduccion](assets/ibm_logo.png\n",
    ")"
   ]
  },
  {
   "cell_type": "markdown",
   "metadata": {},
   "source": [
    "---\n"
   ]
  },
  {
   "cell_type": "markdown",
   "metadata": {},
   "source": [
    "#### Criptografía y comunicaciones seguras. Ciberseguridad. Aleatoriedad cuántica real."
   ]
  },
  {
   "cell_type": "markdown",
   "metadata": {},
   "source": [
    "---"
   ]
  },
  {
   "cell_type": "markdown",
   "metadata": {},
   "source": [
    "#### **Autor:** *Héctor Ayuso Martín*"
   ]
  },
  {
   "cell_type": "markdown",
   "metadata": {},
   "source": [
    "# Generador de números aleatorios cuánticos (QRNG)"
   ]
  },
  {
   "cell_type": "markdown",
   "metadata": {},
   "source": [
    "![Imagen introduccion](assets/random.webp\n",
    ")"
   ]
  },
  {
   "cell_type": "markdown",
   "metadata": {},
   "source": [
    "*\"Aleatoriedad\"*, o lo que una IA entiende por ello."
   ]
  },
  {
   "cell_type": "markdown",
   "metadata": {},
   "source": [
    "Vamos a hacer algo más práctico y avanzado con computación cuántica. Dado que ya se ha realizado en cuadernillos anteriores experimentos con el estado GHZ, podemos construir un proyecto con utilidad práctica.\n",
    "\n",
    "La idea es hacer un QNRG, utilizando la QPU ibm_brisbane.\n",
    "\n",
    "La generación de números aleatorios reales es una herramienta muy práctica para la ciberseguridad, la criptografía y las simulaciones. Las bibliotecas de clase Random, que utilizamos en distintos lenguajes de programación, realmente no generan números aleatorios reales. Es pseudo-aleatoriedad. Estas bibliotecas usan un seed (semilla) para generar secuencias de números extremedamente grandes, pero que terminan repitiendose, por que no hay aleatoriedad real.\n",
    "\n",
    "\n",
    "Haciendo uso de la computación cuántica, podemos acercarnos mucho más a esa realidad."
   ]
  },
  {
   "cell_type": "markdown",
   "metadata": {},
   "source": [
    "###  Pero antes: Aleatoriedad clásica con Python"
   ]
  },
  {
   "cell_type": "code",
   "execution_count": null,
   "metadata": {},
   "outputs": [
    {
     "name": "stdout",
     "output_type": "stream",
     "text": [
      "Secuencia de números aleatorios con el seed marcado en 1010\n",
      "\n",
      "10\n",
      "4\n",
      "9\n",
      "2\n",
      "7\n",
      "7\n",
      "7\n",
      "3\n",
      "3\n",
      "7\n",
      "\n",
      "===================================================================================\n",
      "\n",
      "Secuencia de números aleatorios con el valor seed variable, basado el la hora(time)\n",
      "\n",
      "3\n",
      "4\n",
      "2\n",
      "1\n",
      "4\n",
      "7\n",
      "5\n",
      "6\n",
      "8\n",
      "4\n"
     ]
    }
   ],
   "source": [
    "#Vamos a producir numeros pseudo-aleatorios del 1 al 10:\n",
    "\n",
    "import random\n",
    "\n",
    "#Si configuramos el seed o semilla a un número x, la aparición de números pseudo-aleatorios siempre seguirá la misma secuencia.\n",
    "\n",
    "random.seed(1010)\n",
    "\n",
    "print('Secuencia de números aleatorios con el seed marcado en 1010.')\n",
    "print('')\n",
    "\n",
    "\n",
    "for i in range(10):\n",
    "    \n",
    "    numero_aleatorio = random.randint(1,10)\n",
    "    \n",
    "    print(numero_aleatorio)\n",
    "print('')\n",
    "print('===================================================================================')\n",
    "print('')\n",
    "\n",
    "#Si ejecutamos esta celda varias veces, podemos comprobar que la secuencia de números generada es la misma siempre, debido al valor del seed. Si cambiamos el seed, la secuencia\n",
    "#avanzara o se retrasará.\n",
    "\n",
    "import time\n",
    "\n",
    "random.seed(time.time())\n",
    "\n",
    "print('Secuencia de números aleatorios con el valor seed variable, basado el la hora(time).')\n",
    "print('')\n",
    "\n",
    "for i in range(10):\n",
    "    \n",
    "    numero_aleatorio_2 = random.randint(1,10)\n",
    "    \n",
    "    print(numero_aleatorio_2)\n"
   ]
  },
  {
   "cell_type": "markdown",
   "metadata": {},
   "source": [
    "## QRNG. Números aleatorios reales, fuente cuántica."
   ]
  },
  {
   "cell_type": "code",
   "execution_count": 12,
   "metadata": {},
   "outputs": [],
   "source": [
    "from qiskit import QuantumCircuit, transpile\n",
    "from qiskit_ibm_runtime import QiskitRuntimeService, Sampler\n",
    "\n",
    "import configparser\n",
    "import matplotlib.pyplot as plt\n",
    "\n",
    "import numpy as np\n",
    "from scipy.stats import entropy\n"
   ]
  },
  {
   "cell_type": "markdown",
   "metadata": {},
   "source": [
    "### 1: Carga y configuración de la cuenta de IBM."
   ]
  },
  {
   "cell_type": "code",
   "execution_count": 13,
   "metadata": {},
   "outputs": [],
   "source": [
    "def cuenta_ibm():\n",
    "    \"\"\"Configura la carga de la cuenta IBM y API KEY. Retorna service (QiskitRuntimeService)\"\"\"\n",
    "    \n",
    "    config = configparser.ConfigParser()\n",
    "    config.read('config.ini')\n",
    "    api_key = config['IBM']['api_key']\n",
    "    QiskitRuntimeService.save_account(token=api_key, channel='ibm_quantum', overwrite= True)\n",
    "    return QiskitRuntimeService()"
   ]
  },
  {
   "cell_type": "markdown",
   "metadata": {},
   "source": [
    "### 2: Selección del Backend y preparación del circuito."
   ]
  },
  {
   "cell_type": "code",
   "execution_count": 14,
   "metadata": {},
   "outputs": [],
   "source": [
    "def prepare_qrng_circuit(num_bits=8):\n",
    "    \"\"\"Prepara un circuito cuántico para generar números aleatorios.\"\"\"\n",
    "    \n",
    "    qc = QuantumCircuit(num_bits, num_bits)\n",
    "    for i in range(num_bits):\n",
    "        qc.h(i)  # Aplicamos puerta Hadamard a cada qubit.\n",
    "        qc.measure(i, i)  # Medimos cada qubit.\n",
    "    return qc"
   ]
  },
  {
   "cell_type": "markdown",
   "metadata": {},
   "source": [
    "Este circuito cuántico se utiliza para generar números aleatorios aprovechando la naturaleza probabilística de la mecánica cuántica. \n",
    "\n",
    "La función crea un circuito con un número determinado de qubits y registros clásicos. En cada qubit se aplica la puerta Hadamard, lo que lo coloca en un estado de superposición (|0⟩ + |1⟩)/√2, es decir, cada qubit tiene igual probabilidad de colapsar a 0 o 1 al ser medido. \n",
    "\n",
    "Luego, se miden todos los qubits y se almacena el resultado en el registro clásico correspondiente. De esta manera, la medición de cada qubit produce un bit aleatorio, y la concatenación de estos bits forma el número aleatorio. Al utilizar un proceso intrínsecamente cuántico, se obtiene una fuente de verdadera aleatoriedad, a diferencia de los generadores pseudoaleatorios clásicos."
   ]
  },
  {
   "cell_type": "code",
   "execution_count": 15,
   "metadata": {},
   "outputs": [
    {
     "data": {
      "image/png": "[encoded data removed]",
      "text/plain": [
       "<Figure size 872.774x785.944 with 1 Axes>"
      ]
     },
     "execution_count": 15,
     "metadata": {},
     "output_type": "execute_result"
    }
   ],
   "source": [
    "circuito = prepare_qrng_circuit()\n",
    "circuito.draw('mpl')\n"
   ]
  },
  {
   "cell_type": "markdown",
   "metadata": {},
   "source": [
    "### 3: Enviamos el circuito a IBM_Brisbane."
   ]
  },
  {
   "cell_type": "code",
   "execution_count": 16,
   "metadata": {},
   "outputs": [],
   "source": [
    "def run_qrng_on_ibm(qc, backend_name='ibm_kyiv'):\n",
    "    \"\"\"Ejecuta el circuito cuántico en un backend real de IBM Quantum.\"\"\"\n",
    "    \n",
    "    service = cuenta_ibm()\n",
    "    backend = service.backend(backend_name)\n",
    "    qc_transpiled = transpile(qc, backend)\n",
    "    sampler = Sampler(backend)\n",
    "    job = sampler.run([qc_transpiled])\n",
    "    return job"
   ]
  },
  {
   "cell_type": "markdown",
   "metadata": {},
   "source": [
    "### 4: Obtenemos el resultado del backend"
   ]
  },
  {
   "cell_type": "code",
   "execution_count": 17,
   "metadata": {},
   "outputs": [],
   "source": [
    "def get_qrng_result(job, num_bits):\n",
    "    \"\"\"Obtiene los resultados de medición y los convierte en un número binario.\"\"\"\n",
    "    result = job.result()\n",
    "    counts = result.get_counts()  # Método correcto para obtener los conteos de medidas.\n",
    "    measured_bits = max(counts, key=counts.get)  # Tomar el resultado más frecuente.\n",
    "    return format(int(measured_bits, 2), f'0{num_bits}b')\n"
   ]
  },
  {
   "cell_type": "markdown",
   "metadata": {},
   "source": [
    "---"
   ]
  },
  {
   "cell_type": "markdown",
   "metadata": {},
   "source": [
    "---"
   ]
  },
  {
   "cell_type": "markdown",
   "metadata": {},
   "source": [
    "### 5: Ejecutamos."
   ]
  },
  {
   "cell_type": "code",
   "execution_count": null,
   "metadata": {},
   "outputs": [
    {
     "name": "stdout",
     "output_type": "stream",
     "text": [
      "Configuración cargada con exito\n"
     ]
    }
   ],
   "source": [
    "#1.1 Cargar la cuenta de IBM Quantum.\n",
    "service = cuenta_ibm()\n",
    "print('Configuración cargada con exito.')"
   ]
  },
  {
   "cell_type": "code",
   "execution_count": null,
   "metadata": {},
   "outputs": [
    {
     "name": "stdout",
     "output_type": "stream",
     "text": [
      "Circuito cuántico preaparado con exito\n"
     ]
    },
    {
     "data": {
      "text/plain": [
       "<Figure size 872.774x785.944 with 1 Axes>"
      ]
     },
     "execution_count": 167,
     "metadata": {},
     "output_type": "execute_result"
    }
   ],
   "source": [
    "#2.1 Preparar el circuito para un número de bits específico.\n",
    "num_bits = 8  \n",
    "qc = prepare_qrng_circuit(num_bits)\n",
    "print('Circuito cuántico preaparado con exito.')\n",
    "qc.draw('mpl')\n"
   ]
  },
  {
   "cell_type": "code",
   "execution_count": null,
   "metadata": {},
   "outputs": [
    {
     "name": "stdout",
     "output_type": "stream",
     "text": [
      "ID del trabajo enviado: cz1v5ne39f40008ryt70 Exito!\n"
     ]
    }
   ],
   "source": [
    "#3.1 Enviar el circuito a IBM Quantum y obtener el ID del trabajo.\n",
    "job = run_qrng_on_ibm(qc)\n",
    "print(\"ID del trabajo enviado:\", job.job_id(), ', exito!.')"
   ]
  },
  {
   "cell_type": "markdown",
   "metadata": {},
   "source": [
    "Enlace a IBM: https://quantum-computing.ibm.com\n"
   ]
  },
  {
   "cell_type": "code",
   "execution_count": null,
   "metadata": {},
   "outputs": [
    {
     "name": "stdout",
     "output_type": "stream",
     "text": [
      "Número aleatorio generado (8 bits): 11110101\n"
     ]
    }
   ],
   "source": [
    "#4.1 Recuperar el resultado cuando haya terminado\n",
    "job_result = job.result()\n",
    "counts = job_result[0].join_data().get_counts() # Obtiene los coteos de medición.\n",
    "most_common = max(counts, key=counts.get) # Extrae el bitstring más frecuente.\n",
    "print(f\"Número aleatorio generado ({num_bits} bits): {most_common}\")"
   ]
  },
  {
   "cell_type": "markdown",
   "metadata": {},
   "source": [
    "---"
   ]
  },
  {
   "cell_type": "markdown",
   "metadata": {},
   "source": [
    "### 6: Evaluaciones."
   ]
  },
  {
   "cell_type": "markdown",
   "metadata": {},
   "source": [
    "#### Funciones de evaluación de la aleatoriedad del número obtenido:"
   ]
  },
  {
   "cell_type": "markdown",
   "metadata": {},
   "source": [
    "1<> Entropía de Shannon\n",
    "\n",
    "2<> Prueba de Monobit\n",
    "\n",
    "3<> Autocorrelación\n"
   ]
  },
  {
   "cell_type": "code",
   "execution_count": 189,
   "metadata": {},
   "outputs": [],
   "source": [
    "# <> 1\n",
    "\n",
    "def compute_entropy(bitstring):\n",
    "    \"\"\"Calcula la entropía de Shannon del conjunto de bits.\"\"\"\n",
    "    \n",
    "    values, counts = np.unique(list(bitstring), return_counts=True)\n",
    "    return entropy(counts, base=2)\n"
   ]
  },
  {
   "cell_type": "code",
   "execution_count": 190,
   "metadata": {},
   "outputs": [],
   "source": [
    "# <> 2\n",
    "\n",
    "def monobit_test(bitstring):\n",
    "    \"\"\"Prueba Monobit: analiza el balance entre 0s y 1s.\"\"\"\n",
    "    ones = bitstring.count('1')\n",
    "    zeros = bitstring.count('0')\n",
    "    return abs(ones - zeros) / len(bitstring)  # Diferencia relativa entre 1s y 0s\n",
    "\n"
   ]
  },
  {
   "cell_type": "code",
   "execution_count": 191,
   "metadata": {},
   "outputs": [],
   "source": [
    "# <> 3\n",
    "\n",
    "def autocorrelation_test(bitstring):\n",
    "    \"\"\"Prueba de Autocorrelación: detecta patrones repetitivos en la secuencia.\"\"\"\n",
    "    shifted = bitstring[1:] + bitstring[0]  # Desplazamos la secuencia 1 bit\n",
    "    matches = sum(1 for i in range(len(bitstring)) if bitstring[i] == shifted[i])\n",
    "    return matches / len(bitstring)  # Proporción de coincidencias con la secuencia desplazada"
   ]
  },
  {
   "cell_type": "markdown",
   "metadata": {},
   "source": [
    "#### Ejecución de la evaluación:\n"
   ]
  },
  {
   "cell_type": "code",
   "execution_count": 201,
   "metadata": {},
   "outputs": [
    {
     "name": "stdout",
     "output_type": "stream",
     "text": [
      "\n",
      "Evaluación de Aleatoriedad del numero obtenido por IBM Quantum: 11110101\n",
      "\n",
      "Entropía de Shannon: 0.8113\n",
      "====================================================\n",
      "Prueba Monobit (balance de 0s y 1s): 0.5000\n",
      "====================================================\n",
      "Prueba de Autocorrelación: 0.5000\n"
     ]
    }
   ],
   "source": [
    "en = compute_entropy(most_common)\n",
    "monobit = monobit_test(most_common)\n",
    "auto_corr = autocorrelation_test(most_common)\n",
    "\n",
    "print(f\"\\nEvaluación de Aleatoriedad del numero obtenido por IBM Quantum: {most_common}\")\n",
    "print('')\n",
    "print(f\"Entropía de Shannon: {en:.4f}\")\n",
    "print('====================================================')\n",
    "print(f\"Prueba Monobit (balance de 0s y 1s): {monobit:.4f}\")\n",
    "print('====================================================')\n",
    "print(f\"Prueba de Autocorrelación: {auto_corr:.4f}\")"
   ]
  },
  {
   "cell_type": "markdown",
   "metadata": {},
   "source": [
    "El número obtenido (11110101) a partir de IBM Quantum ha sido evaluado en términos de aleatoriedad mediante varias pruebas. \n",
    "\n",
    "La entropía de Shannon, que mide la incertidumbre en la distribución de bits, se calculó en 0.8113, lo que indica una buena diversidad en la información. \n",
    "\n",
    "La prueba monobit, que evalúa el balance entre ceros y unos, muestra un valor de 0.5000, evidenciando una distribución equitativa de ambos dígitos. \n",
    "\n",
    "La prueba de autocorrelación también arroja un valor de 0.5000, lo que sugiere la ausencia de patrones o correlaciones significativas entre bits adyacentes. \n",
    "\n",
    "Estos resultados respaldan la calidad aleatoria del número, lo cual es esencial para aplicaciones criptográficas y simulaciones estocásticas."
   ]
  },
  {
   "cell_type": "markdown",
   "metadata": {},
   "source": [
    "---"
   ]
  },
  {
   "cell_type": "markdown",
   "metadata": {},
   "source": [
    "#### Por último, usamos el número aleatorio como seed en nuestro futuro programa:"
   ]
  },
  {
   "cell_type": "code",
   "execution_count": null,
   "metadata": {},
   "outputs": [
    {
     "name": "stdout",
     "output_type": "stream",
     "text": [
      "[6, 4, 8, 0, 2, 1, 3, 7, 2, 2, 8, 6, 5, 6, 5, 5, 4, 0, 10, 2, 7, 8, 3, 4, 2, 8, 6, 4, 0, 0]\n"
     ]
    }
   ],
   "source": [
    "#5.0 Añadimos el número cuántico generado por la brisbane como Seed para el uso de la pseudo_aleatoriedad a partir de este punto.\n",
    "import random \n",
    "\n",
    "random.seed(most_common)\n",
    "\n",
    "#Por ultimo, generamos una [lista] con 30 números aleatorios del 0 al 10.\n",
    "lista_aleatoria = []\n",
    "\n",
    "for i in range(30):\n",
    "    lista_aleatoria.append(random.randint(0,10))\n",
    "    \n",
    "print(lista_aleatoria)"
   ]
  },
  {
   "cell_type": "markdown",
   "metadata": {},
   "source": [
    "Este fragmento de código utiliza un número cuántico previamente obtenido en la ibm_brisbane (almacenado en la variable most_common) para inicializar el generador pseudoaleatorio de Python mediante random.seed(most_common). Al hacerlo, se garantiza que la secuencia de números que se genere a partir de esa semilla tenga un origen basado en verdadera aleatoriedad al ser de origen cuántico. A continuación, se emplea un bucle para generar 30 números enteros aleatorios en el rango de 0 a 10, los cuales se almacenan en una lista. Esta técnica permite obtener una secuencia de números que es reproducible si se utiliza la misma semilla, o bien completamente distinta al cambiar el valor de random_bits, facilitando así el equilibrio entre aleatoriedad real y capacidad de replicación en el experimento."
   ]
  },
  {
   "cell_type": "markdown",
   "metadata": {},
   "source": [
    "---"
   ]
  },
  {
   "cell_type": "markdown",
   "metadata": {},
   "source": [
    "---"
   ]
  },
  {
   "cell_type": "code",
   "execution_count": 23,
   "metadata": {},
   "outputs": [
    {
     "name": "stdout",
     "output_type": "stream",
     "text": [
      "Lista de las QPUs de IBM disponibles:\n",
      "\n",
      "<IBMBackend('ibm_brisbane')>\n",
      "\n",
      "<IBMBackend('ibm_kyiv')>\n",
      "\n",
      "<IBMBackend('ibm_sherbrooke')>\n",
      "\n"
     ]
    }
   ],
   "source": [
    "print(\"Lista de las QPUs de IBM disponibles:\")\n",
    "print('')\n",
    "for qpu in service.backends():\n",
    "    print(qpu)\n",
    "    print('')\n",
    "    \n",
    "\n",
    "    "
   ]
  },
  {
   "cell_type": "markdown",
   "metadata": {},
   "source": [
    "![Imagen introduccion](assets/flag.png\n",
    ")"
   ]
  },
  {
   "cell_type": "markdown",
   "metadata": {},
   "source": [
    "> Barcelona, 2 de Marzo de 2025"
   ]
  }
 ],
 "metadata": {
  "kernelspec": {
   "display_name": "Python 3",
   "language": "python",
   "name": "python3"
  },
  "language_info": {
   "codemirror_mode": {
    "name": "ipython",
    "version": 3
   },
   "file_extension": ".py",
   "mimetype": "text/x-python",
   "name": "python",
   "nbconvert_exporter": "python",
   "pygments_lexer": "ipython3",
   "version": "3.12.4"
  }
 },
 "nbformat": 4,
 "nbformat_minor": 2
}
