{
 "cells": [
  {
   "cell_type": "markdown",
   "metadata": {},
   "source": [
    "Video numero 1 del tutorial friki: https://www.youtube.com/watch?v=RXfmP7eaV5s&list=PLhYoqmIacCv--V8DGX2Wpw_M8w6XGOtB0\n",
    "\n",
    "plataforma de IBM --> https://www.ibm.com/quantum\n",
    "\n"
   ]
  },
  {
   "cell_type": "code",
   "execution_count": 1,
   "metadata": {},
   "outputs": [],
   "source": [
    "#Importando qiskit.\n",
    "\n",
    "from qiskit import QuantumCircuit"
   ]
  },
  {
   "cell_type": "code",
   "execution_count": 2,
   "metadata": {},
   "outputs": [],
   "source": [
    "#Creamos un circuito:\n",
    "\n",
    "circuito = QuantumCircuit(2,2)\n",
    "\n",
    "#El primer parámetro indica el número de qubits de nuestro circuito.\n",
    "#El segundo parametro indica el número de bits del circuito.\n"
   ]
  },
  {
   "cell_type": "code",
   "execution_count": 3,
   "metadata": {},
   "outputs": [
    {
     "data": {
      "text/html": [
       "<pre style=\"word-wrap: normal;white-space: pre;background: #fff0;line-height: 1.1;font-family: &quot;Courier New&quot;,Courier,monospace\">     \n",
       "q_0: \n",
       "     \n",
       "q_1: \n",
       "     \n",
       "c: 2/\n",
       "     </pre>"
      ],
      "text/plain": [
       "     \n",
       "q_0: \n",
       "     \n",
       "q_1: \n",
       "     \n",
       "c: 2/\n",
       "     "
      ]
     },
     "execution_count": 3,
     "metadata": {},
     "output_type": "execute_result"
    }
   ],
   "source": [
    "#Dibujamos el circuito:\n",
    "\n",
    "circuito.draw()"
   ]
  },
  {
   "cell_type": "code",
   "execution_count": 4,
   "metadata": {},
   "outputs": [
    {
     "data": {
      "text/html": [
       "<pre style=\"word-wrap: normal;white-space: pre;background: #fff0;line-height: 1.1;font-family: &quot;Courier New&quot;,Courier,monospace\">     ┌───┐\n",
       "q_0: ┤ H ├\n",
       "     └───┘\n",
       "q_1: ─────\n",
       "          \n",
       "c: 2/═════\n",
       "          </pre>"
      ],
      "text/plain": [
       "     ┌───┐\n",
       "q_0: ┤ H ├\n",
       "     └───┘\n",
       "q_1: ─────\n",
       "          \n",
       "c: 2/═════\n",
       "          "
      ]
     },
     "execution_count": 4,
     "metadata": {},
     "output_type": "execute_result"
    }
   ],
   "source": [
    "#Metiendo una puertas H a un qubit en específico:\n",
    "\n",
    "circ = QuantumCircuit(2,2)\n",
    "\n",
    "circ.h(0) #Agregando puerta H al primer Qubit(al Qubit 0)\n",
    "\n",
    "circ.draw()\n",
    "\n"
   ]
  },
  {
   "cell_type": "code",
   "execution_count": 5,
   "metadata": {},
   "outputs": [
    {
     "data": {
      "text/html": [
       "<pre style=\"word-wrap: normal;white-space: pre;background: #fff0;line-height: 1.1;font-family: &quot;Courier New&quot;,Courier,monospace\">     ┌───┐\n",
       "q_0: ┤ H ├\n",
       "     ├───┤\n",
       "q_1: ┤ X ├\n",
       "     └───┘\n",
       "c: 2/═════\n",
       "          </pre>"
      ],
      "text/plain": [
       "     ┌───┐\n",
       "q_0: ┤ H ├\n",
       "     ├───┤\n",
       "q_1: ┤ X ├\n",
       "     └───┘\n",
       "c: 2/═════\n",
       "          "
      ]
     },
     "execution_count": 5,
     "metadata": {},
     "output_type": "execute_result"
    }
   ],
   "source": [
    "#Agregando al segundo Qubit una puerta X\n",
    "\n",
    "circ.x(1)\n",
    "\n",
    "circ.draw()\n",
    "\n"
   ]
  },
  {
   "cell_type": "code",
   "execution_count": 6,
   "metadata": {},
   "outputs": [
    {
     "data": {
      "text/html": [
       "<pre style=\"word-wrap: normal;white-space: pre;background: #fff0;line-height: 1.1;font-family: &quot;Courier New&quot;,Courier,monospace\">     ┌───┐     \n",
       "q_0: ┤ H ├─────\n",
       "     ├───┤┌───┐\n",
       "q_1: ┤ X ├┤ Z ├\n",
       "     └───┘└───┘\n",
       "c: 2/══════════\n",
       "               </pre>"
      ],
      "text/plain": [
       "     ┌───┐     \n",
       "q_0: ┤ H ├─────\n",
       "     ├───┤┌───┐\n",
       "q_1: ┤ X ├┤ Z ├\n",
       "     └───┘└───┘\n",
       "c: 2/══════════\n",
       "               "
      ]
     },
     "execution_count": 6,
     "metadata": {},
     "output_type": "execute_result"
    }
   ],
   "source": [
    "#Agregando al segundo Qubit una puerta Z\n",
    "\n",
    "circ.z(1)\n",
    "\n",
    "circ.draw()\n",
    "\n"
   ]
  },
  {
   "cell_type": "markdown",
   "metadata": {},
   "source": [
    "### Lo interesante de un circuito, es poder medir cosas.\n"
   ]
  },
  {
   "cell_type": "code",
   "execution_count": 7,
   "metadata": {},
   "outputs": [
    {
     "data": {
      "text/html": [
       "<pre style=\"word-wrap: normal;white-space: pre;background: #fff0;line-height: 1.1;font-family: &quot;Courier New&quot;,Courier,monospace\">     ┌───┐     ┌─┐   \n",
       "q_0: ┤ H ├─────┤M├───\n",
       "     ├───┤┌───┐└╥┘┌─┐\n",
       "q_1: ┤ X ├┤ Z ├─╫─┤M├\n",
       "     └───┘└───┘ ║ └╥┘\n",
       "c: 2/═══════════╩══╩═\n",
       "                0  1 </pre>"
      ],
      "text/plain": [
       "     ┌───┐     ┌─┐   \n",
       "q_0: ┤ H ├─────┤M├───\n",
       "     ├───┤┌───┐└╥┘┌─┐\n",
       "q_1: ┤ X ├┤ Z ├─╫─┤M├\n",
       "     └───┘└───┘ ║ └╥┘\n",
       "c: 2/═══════════╩══╩═\n",
       "                0  1 "
      ]
     },
     "execution_count": 7,
     "metadata": {},
     "output_type": "execute_result"
    }
   ],
   "source": [
    "#Añadiendo puerta de medición(medida)\n",
    "\n",
    "\n",
    "circ.measure((0,1),(0,1))\n",
    "\n",
    "#Tambien metemos dos parametros: Primero--> los qubits que queremos medir (el0, y el 1) (quiero medir todo)\n",
    "#Segundo parámetro: a que bits los vamos a referenciar. Para medir todos los qubits, hace falta un numero igual o mayor de bits.\n",
    "\n",
    "\n",
    "circ.draw()\n"
   ]
  },
  {
   "cell_type": "code",
   "execution_count": null,
   "metadata": {},
   "outputs": [
    {
     "ename": "ImportError",
     "evalue": "cannot import name 'execute' from 'qiskit' (c:\\Users\\Héctor\\AppData\\Local\\Programs\\Python\\Python312\\Lib\\site-packages\\qiskit\\__init__.py)",
     "output_type": "error",
     "traceback": [
      "\u001b[1;31m---------------------------------------------------------------------------\u001b[0m",
      "\u001b[1;31mImportError\u001b[0m                               Traceback (most recent call last)",
      "Cell \u001b[1;32mIn[10], line 8\u001b[0m\n\u001b[0;32m      1\u001b[0m \u001b[38;5;66;03m#La siguiente idea es \"ejecutar\" el circuito de alguna manera. Para ello hace falta un backend.\u001b[39;00m\n\u001b[0;32m      2\u001b[0m \n\u001b[0;32m      3\u001b[0m \u001b[38;5;66;03m#Tenemos dos opciones: 1--> mandarlo a un ordenador cuántico de verdad.\u001b[39;00m\n\u001b[0;32m      4\u001b[0m \u001b[38;5;66;03m#                      2--> simularlo con un backend.\u001b[39;00m\n\u001b[0;32m      5\u001b[0m \n\u001b[0;32m      6\u001b[0m \u001b[38;5;66;03m#Necesitamos dos librerias más:\u001b[39;00m\n\u001b[1;32m----> 8\u001b[0m \u001b[38;5;28;01mfrom\u001b[39;00m\u001b[38;5;250m \u001b[39m\u001b[38;5;21;01mqiskit\u001b[39;00m\u001b[38;5;250m \u001b[39m\u001b[38;5;28;01mimport\u001b[39;00m execute\n",
      "\u001b[1;31mImportError\u001b[0m: cannot import name 'execute' from 'qiskit' (c:\\Users\\Héctor\\AppData\\Local\\Programs\\Python\\Python312\\Lib\\site-packages\\qiskit\\__init__.py)"
     ]
    }
   ],
   "source": [
    "#La siguiente idea es \"ejecutar\" el circuito de alguna manera. Para ello hace falta un backend.\n",
    "\n",
    "#Tenemos dos opciones: 1--> mandarlo a un ordenador cuántico de verdad.\n",
    "#                      2--> simularlo con un backend.\n",
    "\n",
    "#Necesitamos dos librerias más:\n",
    "\n",
    "from qiskit import execute\n",
    "from qiskit import Aer\n",
    "\n",
    "\n"
   ]
  },
  {
   "cell_type": "markdown",
   "metadata": {},
   "source": [
    "### Retomar aquí: Creo que no se puede importar Aer y execute , por la version de py. Debe instalarse con una version de PY 3.10 o 3.9.  La version 3.12 produce errores. Hay que que hacer un .venv o un  .conda con una versión de Python que soporte estos dos imports. Es necesario para configurar el backend."
   ]
  }
 ],
 "metadata": {
  "kernelspec": {
   "display_name": "Python 3",
   "language": "python",
   "name": "python3"
  },
  "language_info": {
   "codemirror_mode": {
    "name": "ipython",
    "version": 3
   },
   "file_extension": ".py",
   "mimetype": "text/x-python",
   "name": "python",
   "nbconvert_exporter": "python",
   "pygments_lexer": "ipython3",
   "version": "3.12.4"
  }
 },
 "nbformat": 4,
 "nbformat_minor": 2
}
